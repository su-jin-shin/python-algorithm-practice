{
  "nbformat": 4,
  "nbformat_minor": 0,
  "metadata": {
    "colab": {
      "provenance": [],
      "collapsed_sections": []
    },
    "kernelspec": {
      "name": "python3",
      "display_name": "Python 3"
    },
    "language_info": {
      "name": "python"
    }
  },
  "cells": [
    {
      "cell_type": "markdown",
      "source": [
        "### <b>1장 파이썬 개발 환경 구축하기</b>"
      ],
      "metadata": {
        "id": "p9JJVuZAJSbq"
      }
    },
    {
      "cell_type": "markdown",
      "source": [
        "#### <b>개발 환경이란?</b>\n",
        "\n",
        "* 코딩, 디버깅, 배포 등 <b>프로그램을 개발하는 일련의 과정을 하나의 프로그램 안에서 수행</b>할 수 있도록 해주는 통합적인 환경을 의미합니다."
      ],
      "metadata": {
        "id": "he6yXTOpJY4I"
      }
    },
    {
      "cell_type": "markdown",
      "source": [
        "#### <b>1) 파이썬(Python) 설치</b>\n",
        "\n",
        "* 파이썬이라는 프로그래밍 언어로 코딩을 하기 위해서는 파이썬을 설치해야 합니다.\n",
        "* 파이썬(Python) 다운로드 경로: https://www.python.org/downloads/\n",
        "  * [Downloads] - [All releases] 페이지로 이동하여 구체적인 버전의 파이썬(Python)을 설치할 수 있습니다.\n",
        "* 설치 이후에 정상적으로 설치가 완료되었는지 확인하기 위해 명령 프롬프트(CMD)에서 python을 사용해 봅시다.\n",
        "\n",
        "<pre>\n",
        "python example.py\n",
        "</pre>"
      ],
      "metadata": {
        "id": "CsAA0NH0JcTo"
      }
    },
    {
      "cell_type": "markdown",
      "source": [
        "#### <b>2) Visual Studio Code 설치</b>\n",
        "\n",
        "* Visual Studio Code는 파이썬을 포함한 다양한 프로그래밍 언어를 지원하며, 무료인 <b>개발 환경</b>입니다.\n",
        "* Visual Studio Code 다운로드 경로: https://code.visualstudio.com/\n",
        "  * [Download for Windows] 버튼을 눌러 무료로 설치할 수 있습니다."
      ],
      "metadata": {
        "id": "1Luv1QbeJa34"
      }
    },
    {
      "cell_type": "markdown",
      "source": [
        "#### <b>3) Visual Studio Code에서 개발 시작하기</b>\n",
        "\n",
        "* Visual Studio Code에서는 특정한 프로그래밍 언어를 이용해서 프로그램을 작성할 수 있습니다.\n",
        "* Python 확장 프로그램(Extensions)을 사용하면, 보다 풍부한 기능을 이용할 수 있습니다.\n",
        "* Visual Studio Code를 이용하여 코드를 작성해 봅시다.\n",
        "  1. Visual Studio Code의 터미널(terminal)을 이용하여 python을 사용해 봅시다.\n",
        "  2. Visual Studio Code에서 hello_world.py 파일을 생성하여 실행해 봅시다.\n",
        "\n",
        "<pre>\n",
        "print(\"Hello World\")\n",
        "</pre>\n",
        "\n"
      ],
      "metadata": {
        "id": "TV1UOWwuJdpB"
      }
    },
    {
      "cell_type": "markdown",
      "source": [
        "#### <b>4) Google Colab</b>\n",
        "\n",
        "* 구글(Google) 계정만 있다면 무료로 사용할 수 있는 개발 환경입니다.\n",
        "* Google Colab 시작하기: https://colab.research.google.com/\n",
        "* [+코드] 버튼을 클릭하여 코드 셀을 추가하고, 파이썬 코드를 작성할 수 있습니다.\n",
        "* [Shift + Enter]를 입력하여 현재 코드 셀의 파이썬 코드를 실행할 수 있습니다."
      ],
      "metadata": {
        "id": "2MJotMovJdtY"
      }
    },
    {
      "cell_type": "markdown",
      "source": [
        "### <b>2장 코딩 테스트를 위한 파이썬 문법 핵심 요약 - 기초</b>"
      ],
      "metadata": {
        "id": "NIKj4Lm5JjMK"
      }
    },
    {
      "cell_type": "markdown",
      "source": [
        "#### <b>파이썬 문법</b>\n",
        "\n",
        "* 다양한 알고리즘 문제를 풀기 위해서는 파이썬 프로그래밍 언어의 문법을 알고 있을 필요가 있습니다.\n",
        "* 파이썬 공식 자습서: https://docs.python.org/ko/3/tutorial/introduction.html"
      ],
      "metadata": {
        "id": "pobeD-00JmBR"
      }
    },
    {
      "cell_type": "markdown",
      "source": [
        "#### <b>1) 변수와 상수</b>\n",
        "\n",
        "* 변수: 어떠한 값을 담을 수 있는 그릇입니다.\n",
        "* 변수에 값을 넣을 때는 등호(=)를 사용합니다."
      ],
      "metadata": {
        "id": "vbvdjFkPJnKC"
      }
    },
    {
      "cell_type": "code",
      "source": [
        "a = 12\n",
        "b = 5\n",
        "print(a + b)"
      ],
      "metadata": {
        "colab": {
          "base_uri": "https://localhost:8080/"
        },
        "id": "vj1SkAQmJMlS",
        "outputId": "d035dfe9-8b31-49d7-b303-a245563d41c8"
      },
      "execution_count": 19,
      "outputs": [
        {
          "output_type": "stream",
          "name": "stdout",
          "text": [
            "17\n"
          ]
        }
      ]
    },
    {
      "cell_type": "markdown",
      "source": [
        "* 변수에 저장된 값을 변경할 수 있습니다."
      ],
      "metadata": {
        "id": "nq_bixzIJylR"
      }
    },
    {
      "cell_type": "code",
      "source": [
        "a = 12\n",
        "b = 5\n",
        "a = 19\n",
        "print(a + b)"
      ],
      "metadata": {
        "id": "1yANMDxdJMnQ",
        "colab": {
          "base_uri": "https://localhost:8080/"
        },
        "outputId": "dc78a003-fe36-4f17-e390-c296ca364f09"
      },
      "execution_count": 20,
      "outputs": [
        {
          "output_type": "stream",
          "name": "stdout",
          "text": [
            "24\n"
          ]
        }
      ]
    },
    {
      "cell_type": "markdown",
      "source": [
        "* 존재하지 않는 변수를 출력할 때는 오류가 발생합니다."
      ],
      "metadata": {
        "id": "XfQDQwYEJ2qI"
      }
    },
    {
      "cell_type": "code",
      "source": [
        "print(c)"
      ],
      "metadata": {
        "id": "Tpv-1roc5fDK",
        "colab": {
          "base_uri": "https://localhost:8080/",
          "height": 170
        },
        "outputId": "b1be8c28-02bc-4334-a256-90066ff0beb6"
      },
      "execution_count": 21,
      "outputs": [
        {
          "output_type": "error",
          "ename": "NameError",
          "evalue": "ignored",
          "traceback": [
            "\u001b[0;31m---------------------------------------------------------------------------\u001b[0m",
            "\u001b[0;31mNameError\u001b[0m                                 Traceback (most recent call last)",
            "\u001b[0;32m<ipython-input-21-1dd5973cae19>\u001b[0m in \u001b[0;36m<module>\u001b[0;34m\u001b[0m\n\u001b[0;32m----> 1\u001b[0;31m \u001b[0mprint\u001b[0m\u001b[0;34m(\u001b[0m\u001b[0mc\u001b[0m\u001b[0;34m)\u001b[0m\u001b[0;34m\u001b[0m\u001b[0;34m\u001b[0m\u001b[0m\n\u001b[0m",
            "\u001b[0;31mNameError\u001b[0m: name 'c' is not defined"
          ]
        }
      ]
    },
    {
      "cell_type": "markdown",
      "source": [
        "* 상수: 특정한 수를 그대로 사용하면 그 자체로 상수가 됩니다."
      ],
      "metadata": {
        "id": "52vV94_iJ33h"
      }
    },
    {
      "cell_type": "code",
      "source": [
        "print(19 + 5)"
      ],
      "metadata": {
        "id": "l3UUg0-PJ5F4",
        "colab": {
          "base_uri": "https://localhost:8080/"
        },
        "outputId": "02411864-afc4-499b-8ef4-a43c456b53ff"
      },
      "execution_count": 22,
      "outputs": [
        {
          "output_type": "stream",
          "name": "stdout",
          "text": [
            "24\n"
          ]
        }
      ]
    },
    {
      "cell_type": "markdown",
      "source": [
        "#### <b>2) 사칙연산</b>\n",
        "\n",
        "* 파이썬은 프로그래밍 언어이기 때문에, 말 그대로 계산기 목적으로 사용할 수 있습니다. "
      ],
      "metadata": {
        "id": "iW9b0pDWJ6B6"
      }
    },
    {
      "cell_type": "code",
      "source": [
        "a = 31\n",
        "b = 5\n",
        "print(a + b)\n",
        "print(a - b)\n",
        "print(a * b)\n",
        "print(a / b)\n",
        "print(a // b)\n",
        "print(a % b)"
      ],
      "metadata": {
        "id": "rLJYn1NgJ7KP",
        "colab": {
          "base_uri": "https://localhost:8080/"
        },
        "outputId": "660dfc48-0bac-4381-89b6-fa3f3cc4b883"
      },
      "execution_count": 23,
      "outputs": [
        {
          "output_type": "stream",
          "name": "stdout",
          "text": [
            "36\n",
            "26\n",
            "155\n",
            "6.2\n",
            "6\n",
            "1\n"
          ]
        }
      ]
    },
    {
      "cell_type": "markdown",
      "source": [
        "#### <b>3) 문자열</b>\n",
        "\n",
        "* 파이썬에서 문자열을 사용할 때는 작은따옴표나 큰따옴표를 사용합니다. "
      ],
      "metadata": {
        "id": "B8nfQEJkKCd5"
      }
    },
    {
      "cell_type": "code",
      "source": [
        "a = \"Hello\"\n",
        "b = 'Python'\n",
        "\n",
        "print(a)\n",
        "print(b)"
      ],
      "metadata": {
        "id": "Tn9SB8FIKDsx",
        "colab": {
          "base_uri": "https://localhost:8080/"
        },
        "outputId": "26d00f1a-b467-4747-bfbe-e5dda11b9f29"
      },
      "execution_count": 24,
      "outputs": [
        {
          "output_type": "stream",
          "name": "stdout",
          "text": [
            "Hello\n",
            "Python\n"
          ]
        }
      ]
    },
    {
      "cell_type": "markdown",
      "source": [
        "* 문자열끼리의 덧셈이 가능합니다."
      ],
      "metadata": {
        "id": "adXtzr5wKGqJ"
      }
    },
    {
      "cell_type": "code",
      "source": [
        "a = \"Hello\"\n",
        "b = \"Python\"\n",
        "\n",
        "print(a + \", \" + b)"
      ],
      "metadata": {
        "id": "lkYr1rp_KH8x",
        "colab": {
          "base_uri": "https://localhost:8080/"
        },
        "outputId": "eb168e86-f75a-4fdf-ed19-0ccc2d837447"
      },
      "execution_count": 25,
      "outputs": [
        {
          "output_type": "stream",
          "name": "stdout",
          "text": [
            "Hello, Python\n"
          ]
        }
      ]
    },
    {
      "cell_type": "markdown",
      "source": [
        "* 문자열 안에서 큰따옴표나 작은따옴표를 출력해야 한다면 이스케이핑을 사용할 수 있습니다.\n",
        "    * 역 슬래시(\\\\) 기호를 이용하면 됩니다."
      ],
      "metadata": {
        "id": "2wB6gTREKIyx"
      }
    },
    {
      "cell_type": "code",
      "source": [
        "print(\"\\\"평범\\\"의 연속은 \\\"비범\\\"이다.\")"
      ],
      "metadata": {
        "id": "uPnKkyX6KJpp",
        "colab": {
          "base_uri": "https://localhost:8080/"
        },
        "outputId": "72b46eb9-e800-4dba-88c6-e50919ab67e1"
      },
      "execution_count": 26,
      "outputs": [
        {
          "output_type": "stream",
          "name": "stdout",
          "text": [
            "\"평범\"의 연속은 \"비범\"이다.\n"
          ]
        }
      ]
    },
    {
      "cell_type": "markdown",
      "source": [
        "* <b>문자열 인덱싱(indexing)</b>: 문자열에 포함된 특정한 하나의 문자를 얻습니다.\n",
        "    * 첫 번째 문자는 인덱스 0에 해당합니다."
      ],
      "metadata": {
        "id": "OmuXf5JKKLdI"
      }
    },
    {
      "cell_type": "code",
      "source": [
        "a = \"Hello\"\n",
        "\n",
        "print(a[0])\n",
        "print(a[3])"
      ],
      "metadata": {
        "id": "l-FkbO4hKMi6",
        "colab": {
          "base_uri": "https://localhost:8080/"
        },
        "outputId": "81babd06-ecaa-46a0-9ba1-2fbbcadfe321"
      },
      "execution_count": 27,
      "outputs": [
        {
          "output_type": "stream",
          "name": "stdout",
          "text": [
            "H\n",
            "l\n"
          ]
        }
      ]
    },
    {
      "cell_type": "markdown",
      "source": [
        "* <b>문자열 슬라이싱(slicing)</b>: 부분 문자열(substring)을 얻기 위해 사용합니다.\n",
        "    * 슬라이싱은 두 개의 인덱스로 구성되는데, <b>변수명[시작 인덱스:끝 인덱스]</b>의 형태를 가집니다."
      ],
      "metadata": {
        "id": "2fnnfx75KN35"
      }
    },
    {
      "cell_type": "code",
      "source": [
        "a = \"Hello World\"\n",
        "\n",
        "prefix = a[:4] # 인덱스 3까지의 접두사 가져오기\n",
        "print(prefix)\n",
        "suffix = a[2:] # 인덱스 2부터의 접미사 가져오기\n",
        "print(suffix)"
      ],
      "metadata": {
        "id": "IYj4I0xGKON0",
        "colab": {
          "base_uri": "https://localhost:8080/"
        },
        "outputId": "f379afe3-4267-411c-9db0-a34c1b32a999"
      },
      "execution_count": 28,
      "outputs": [
        {
          "output_type": "stream",
          "name": "stdout",
          "text": [
            "Hell\n",
            "llo World\n"
          ]
        }
      ]
    },
    {
      "cell_type": "code",
      "source": [
        "a = \"Hello World\"\n",
        "\n",
        "print(a[7:10]) # 중간에 있는 부분 문자열 가져오기"
      ],
      "metadata": {
        "id": "Ukn4pT1IKQNJ",
        "colab": {
          "base_uri": "https://localhost:8080/"
        },
        "outputId": "27e8eb74-1fc5-4377-fd15-5db9d982fd7c"
      },
      "execution_count": 29,
      "outputs": [
        {
          "output_type": "stream",
          "name": "stdout",
          "text": [
            "orl\n"
          ]
        }
      ]
    },
    {
      "cell_type": "markdown",
      "source": [
        "* 문자열 인덱싱을 할 때는 범위를 벗어나는 경우 오류가 발생하지만, 슬라이싱의 경우 부드럽게 처리됩니다."
      ],
      "metadata": {
        "id": "-xV3khxPKR6C"
      }
    },
    {
      "cell_type": "code",
      "source": [
        "a = \"I love you\"\n",
        "\n",
        "print(a[2:50])"
      ],
      "metadata": {
        "id": "l0dB1OYmKSIx",
        "colab": {
          "base_uri": "https://localhost:8080/"
        },
        "outputId": "10d0a276-53c7-4ec5-b224-d1b6a1f2a97e"
      },
      "execution_count": 30,
      "outputs": [
        {
          "output_type": "stream",
          "name": "stdout",
          "text": [
            "love you\n"
          ]
        }
      ]
    },
    {
      "cell_type": "markdown",
      "source": [
        "* 파이썬에서 문자열은 값을 변경할 수 없기 때문에, 불변(immutable) 객체라고도 합니다."
      ],
      "metadata": {
        "id": "dtKSTP47KUby"
      }
    },
    {
      "cell_type": "code",
      "source": [
        "a = \"Hello World\"\n",
        "a[3] = 'b' # 오류 발생"
      ],
      "metadata": {
        "id": "MH2ENaijKVPy",
        "colab": {
          "base_uri": "https://localhost:8080/",
          "height": 188
        },
        "outputId": "95d7c860-e021-474a-e21e-5fae6f15f8cb"
      },
      "execution_count": 31,
      "outputs": [
        {
          "output_type": "error",
          "ename": "TypeError",
          "evalue": "ignored",
          "traceback": [
            "\u001b[0;31m---------------------------------------------------------------------------\u001b[0m",
            "\u001b[0;31mTypeError\u001b[0m                                 Traceback (most recent call last)",
            "\u001b[0;32m<ipython-input-31-c7df613f7542>\u001b[0m in \u001b[0;36m<module>\u001b[0;34m\u001b[0m\n\u001b[1;32m      1\u001b[0m \u001b[0ma\u001b[0m \u001b[0;34m=\u001b[0m \u001b[0;34m\"Hello World\"\u001b[0m\u001b[0;34m\u001b[0m\u001b[0;34m\u001b[0m\u001b[0m\n\u001b[0;32m----> 2\u001b[0;31m \u001b[0ma\u001b[0m\u001b[0;34m[\u001b[0m\u001b[0;36m3\u001b[0m\u001b[0;34m]\u001b[0m \u001b[0;34m=\u001b[0m \u001b[0;34m'b'\u001b[0m \u001b[0;31m# 오류 발생\u001b[0m\u001b[0;34m\u001b[0m\u001b[0;34m\u001b[0m\u001b[0m\n\u001b[0m",
            "\u001b[0;31mTypeError\u001b[0m: 'str' object does not support item assignment"
          ]
        }
      ]
    },
    {
      "cell_type": "markdown",
      "source": [
        "#### <b>4) 리스트</b>\n",
        "\n",
        "* 프로그램에서는 단순히 한두 개의 변수만 사용하는 것이 아니라, 매우 많은 양의 변수를 다루어야 할 수 있습니다.\n",
        "* 리스트는 대괄호 안에 원소들을 쉼표로 구분하여 넣을 수 있습니다."
      ],
      "metadata": {
        "id": "-iKjNq3dKWaJ"
      }
    },
    {
      "cell_type": "code",
      "source": [
        "odds = [1, 3, 5, 7, 9]\n",
        "\n",
        "print(odds)"
      ],
      "metadata": {
        "id": "fAkk3QEWKXyS",
        "colab": {
          "base_uri": "https://localhost:8080/"
        },
        "outputId": "ae5b0c7b-46a3-4614-9d6a-59ec04ccfff3"
      },
      "execution_count": 32,
      "outputs": [
        {
          "output_type": "stream",
          "name": "stdout",
          "text": [
            "[1, 3, 5, 7, 9]\n"
          ]
        }
      ]
    },
    {
      "cell_type": "markdown",
      "source": [
        "* 일반적으로 리스트의 각 원소는 같은 자료형이도록 쓰지만, 서로 다른 자료형의 데이터가 들어갈 수 있습니다."
      ],
      "metadata": {
        "id": "NywhMyT7Kkvh"
      }
    },
    {
      "cell_type": "code",
      "source": [
        "data = [\"Hello\", 7, 0.5]\n",
        "\n",
        "print(data)"
      ],
      "metadata": {
        "id": "ZvnLd2DdKla5",
        "colab": {
          "base_uri": "https://localhost:8080/"
        },
        "outputId": "d801690d-4b5c-4321-d1b0-71a793e41697"
      },
      "execution_count": 33,
      "outputs": [
        {
          "output_type": "stream",
          "name": "stdout",
          "text": [
            "['Hello', 7, 0.5]\n"
          ]
        }
      ]
    },
    {
      "cell_type": "markdown",
      "source": [
        "* 리스트에 대해서 인덱싱과 슬라이싱을 사용할 수 있습니다."
      ],
      "metadata": {
        "id": "3sUWSu-AKmOr"
      }
    },
    {
      "cell_type": "code",
      "source": [
        "evens = [2, 4, 6, 8, 10, 12, 14, 16, 18, 20]\n",
        "\n",
        "print(evens[3]) # 4번째 원소\n",
        "print(evens[0:5]) # 1번째 원소부터 5번째 원소까지"
      ],
      "metadata": {
        "id": "n4fHl0jKKmhr",
        "colab": {
          "base_uri": "https://localhost:8080/"
        },
        "outputId": "e2ebecf3-6e4a-48fd-b671-76b4c8f3ebdd"
      },
      "execution_count": 34,
      "outputs": [
        {
          "output_type": "stream",
          "name": "stdout",
          "text": [
            "8\n",
            "[2, 4, 6, 8, 10]\n"
          ]
        }
      ]
    },
    {
      "cell_type": "markdown",
      "source": [
        "* 리스트 덧셈: 리스트끼리 더할 수 있는데, 이때는 단순히 두 리스트를 이어 붙인 결과가 반환됩니다."
      ],
      "metadata": {
        "id": "s-UAcITwKnqJ"
      }
    },
    {
      "cell_type": "code",
      "source": [
        "a = [1, 2, 3, 4, 5]\n",
        "b = [6, 7, 8, 9, 10]\n",
        "\n",
        "print(a + b)"
      ],
      "metadata": {
        "id": "Y1-4FIvbKorT",
        "colab": {
          "base_uri": "https://localhost:8080/"
        },
        "outputId": "2b01e4ba-bf48-433f-f12c-9bb98ede86ac"
      },
      "execution_count": 35,
      "outputs": [
        {
          "output_type": "stream",
          "name": "stdout",
          "text": [
            "[1, 2, 3, 4, 5, 6, 7, 8, 9, 10]\n"
          ]
        }
      ]
    },
    {
      "cell_type": "markdown",
      "source": [
        "* 리스트 중첩: 리스트는 다중(2중, 3중 등)으로 중첩하여 사용할 수 있습니다."
      ],
      "metadata": {
        "id": "ZBzCDvqqKpfx"
      }
    },
    {
      "cell_type": "code",
      "source": [
        "arr = [\n",
        "    [1, 2, 3, 4, 5],\n",
        "    [6, 7, 8, 9, 10],\n",
        "    [11, 12, 13, 14, 15]\n",
        "]\n",
        "\n",
        "print(arr) # 리스트 전체 출력\n",
        "print(arr[0][1]) # 1행 2열의 원소 출력\n",
        "print(arr[2][2]) # 3행 3열의 원소 출력"
      ],
      "metadata": {
        "id": "2d3AIpJrKq55",
        "colab": {
          "base_uri": "https://localhost:8080/"
        },
        "outputId": "83030b56-5e7b-4127-d072-ba879db7f041"
      },
      "execution_count": 36,
      "outputs": [
        {
          "output_type": "stream",
          "name": "stdout",
          "text": [
            "[[1, 2, 3, 4, 5], [6, 7, 8, 9, 10], [11, 12, 13, 14, 15]]\n",
            "2\n",
            "13\n"
          ]
        }
      ]
    },
    {
      "cell_type": "markdown",
      "source": [
        "* 문자열은 불변(immutable) 객체였지만, 리스트는 가변(mutable) 객체입니다."
      ],
      "metadata": {
        "id": "ZRVieFYWKqbp"
      }
    },
    {
      "cell_type": "code",
      "source": [
        "a = [5, 6, 7, 8, 9]\n",
        "\n",
        "a[4] = 5\n",
        "print(a)\n",
        "\n",
        "a[0] = 1\n",
        "print(a)\n",
        "\n",
        "a[1:4] = [2, 3, 4] # 특정 구간을 한꺼번에 바꾸기\n",
        "print(a)"
      ],
      "metadata": {
        "id": "GA2te0LZKuz5",
        "colab": {
          "base_uri": "https://localhost:8080/"
        },
        "outputId": "d940b5e9-e029-43eb-8326-2d565b06ac5d"
      },
      "execution_count": 37,
      "outputs": [
        {
          "output_type": "stream",
          "name": "stdout",
          "text": [
            "[5, 6, 7, 8, 5]\n",
            "[1, 6, 7, 8, 5]\n",
            "[1, 2, 3, 4, 5]\n"
          ]
        }
      ]
    },
    {
      "cell_type": "markdown",
      "source": [
        "* 파이썬에서 2차원 이상의 리스트를 초기화할 때는 리스트 컴프리헨션(list comprehension)을 사용합니다."
      ],
      "metadata": {
        "id": "GCHEr0irJ6Ha"
      }
    },
    {
      "cell_type": "code",
      "source": [
        "# 원소를 8개 포함하는 1차원 리스트 초기화\n",
        "arr = [5] * 8\n",
        "print(arr)\n",
        "\n",
        "# 4 X 5 크기를 갖는 2차원 리스트 초기화\n",
        "arr = [[0] * 5 for _ in range(4)]\n",
        "print(arr)\n",
        "\n",
        "# 4 X 5 크기를 갖는 2차원 리스트 초기화\n",
        "arr = [[i] * 5 for i in range(4)]\n",
        "print(arr)\n",
        "\n",
        "# 4 X 5 크기를 갖는 2차원 리스트 초기화\n",
        "arr = [[(i * 5) + j for j in range(5)] for i in range(4)]\n",
        "print(arr)"
      ],
      "metadata": {
        "id": "Waf7nofiJ6Z_",
        "colab": {
          "base_uri": "https://localhost:8080/"
        },
        "outputId": "db95e434-4ac2-478d-c979-935ef0100e0b"
      },
      "execution_count": 38,
      "outputs": [
        {
          "output_type": "stream",
          "name": "stdout",
          "text": [
            "[5, 5, 5, 5, 5, 5, 5, 5]\n",
            "[[0, 0, 0, 0, 0], [0, 0, 0, 0, 0], [0, 0, 0, 0, 0], [0, 0, 0, 0, 0]]\n",
            "[[0, 0, 0, 0, 0], [1, 1, 1, 1, 1], [2, 2, 2, 2, 2], [3, 3, 3, 3, 3]]\n",
            "[[0, 1, 2, 3, 4], [5, 6, 7, 8, 9], [10, 11, 12, 13, 14], [15, 16, 17, 18, 19]]\n"
          ]
        }
      ]
    },
    {
      "cell_type": "markdown",
      "source": [
        "#### <b>5) 사전(Dictionary) 자료형</b>\n",
        "\n",
        "* 데이터를 키(key)와 값(value) 쌍의 형태로 저장할 때 사용할 수 있습니다.\n",
        "* 모든 키(key)를 하나씩 확인할 때는 keys() 메서드를 사용할 수 있습니다."
      ],
      "metadata": {
        "id": "i5bAhHLTKCpv"
      }
    },
    {
      "cell_type": "code",
      "source": [
        "data = {}\n",
        "data['apple'] = \"사과\"\n",
        "data[\"banana\"] = \"바나나\"\n",
        "\n",
        "for key in data.keys():\n",
        "    print(\"key:\", key, \", value:\", data[key])"
      ],
      "metadata": {
        "id": "lUrpaOkPKJwY",
        "colab": {
          "base_uri": "https://localhost:8080/"
        },
        "outputId": "79bf1ee1-1c0b-419e-bcde-ee748e806706"
      },
      "execution_count": 39,
      "outputs": [
        {
          "output_type": "stream",
          "name": "stdout",
          "text": [
            "key: apple , value: 사과\n",
            "key: banana , value: 바나나\n"
          ]
        }
      ]
    },
    {
      "cell_type": "markdown",
      "source": [
        "* 사전 자료형은 특정한 데이터의 등장 횟수를 셀 때 효과적으로 사용할 수 있습니다."
      ],
      "metadata": {
        "id": "ub7mMfS7KKBn"
      }
    },
    {
      "cell_type": "code",
      "source": [
        "data = [1, 3, 3, 5, 4, 3, 1, 4]\n",
        "counter = {}\n",
        "\n",
        "for x in data:\n",
        "    if x not in counter:\n",
        "        counter[x] = 1\n",
        "    else:\n",
        "        counter[x] += 1\n",
        "print(counter)"
      ],
      "metadata": {
        "id": "43BFpkzoKLOB",
        "colab": {
          "base_uri": "https://localhost:8080/"
        },
        "outputId": "08231887-1ad3-489d-d52a-0152a6dbe0fd"
      },
      "execution_count": 40,
      "outputs": [
        {
          "output_type": "stream",
          "name": "stdout",
          "text": [
            "{1: 2, 3: 3, 5: 1, 4: 2}\n"
          ]
        }
      ]
    },
    {
      "cell_type": "markdown",
      "source": [
        "#### <b>6) 집합(Set) 자료형</b>\n",
        "\n",
        "* 데이터의 중복을 허용하지 않고, 순서가 상관없을 때 사용하는 자료형입니다.\n",
        "* 특정한 데이터가 등장한 적 있는지 체크할 때 효과적으로 사용됩니다."
      ],
      "metadata": {
        "id": "VPqbGeimKMXf"
      }
    },
    {
      "cell_type": "code",
      "source": [
        "data = [1, 3, 3, 5, 4, 3, 1, 4]\n",
        "visited = set()\n",
        "\n",
        "for x in data:\n",
        "    if x not in visited:\n",
        "        visited.add(x)\n",
        "    else:\n",
        "        print(\"중복 원소 발견:\", x)\n",
        "\n",
        "print(\"고유한 원소들:\", visited)"
      ],
      "metadata": {
        "id": "2xQlBRAMKRdH",
        "colab": {
          "base_uri": "https://localhost:8080/"
        },
        "outputId": "1911c7e6-5296-477f-8f90-54a462dc1fd0"
      },
      "execution_count": 41,
      "outputs": [
        {
          "output_type": "stream",
          "name": "stdout",
          "text": [
            "중복 원소 발견: 3\n",
            "중복 원소 발견: 3\n",
            "중복 원소 발견: 1\n",
            "중복 원소 발견: 4\n",
            "고유한 원소들: {1, 3, 4, 5}\n"
          ]
        }
      ]
    },
    {
      "cell_type": "markdown",
      "source": [
        "### <b>3장 코딩 테스트를 위한 파이썬 문법 핵심 요약 – 심화</b>"
      ],
      "metadata": {
        "id": "l6B8pR1-K7uq"
      }
    },
    {
      "cell_type": "markdown",
      "source": [
        "#### <b>프로그램을 제어하기 위한 문법</b>\n",
        "\n",
        "* 코딩 테스트 문제를 풀 때, 조건에 따라서 데이터를 처리해야 하는 경우가 많습니다."
      ],
      "metadata": {
        "id": "uTRc2guGK8dx"
      }
    },
    {
      "cell_type": "markdown",
      "source": [
        "#### <b>1) 조건문</b>\n",
        "\n",
        "* 조건문은 프로그램 실행의 흐름을 제어합니다.\n",
        "* 일반적으로 프로그램은 사용자의 입력에 따라서 적절한 결과를 뱉는 방식으로 작성됩니다.\n",
        "    * 사용자로부터 입력을 받을 때는 input() 함수를 사용합니다. "
      ],
      "metadata": {
        "id": "Zgbw9uSbK9Xa"
      }
    },
    {
      "cell_type": "code",
      "source": [
        "x = int(input())\n",
        "y = int(input())\n",
        "\n",
        "print(x / y)"
      ],
      "metadata": {
        "id": "oSlVOtkALG8r",
        "colab": {
          "base_uri": "https://localhost:8080/"
        },
        "outputId": "10585f7e-c46b-42da-cada-fd0f9b4f080d"
      },
      "execution_count": 42,
      "outputs": [
        {
          "output_type": "stream",
          "name": "stdout",
          "text": [
            "10\n",
            "4\n",
            "2.5\n"
          ]
        }
      ]
    },
    {
      "cell_type": "markdown",
      "source": [
        "* 조건문은 <b>if 구문</b>을 이용해 작성합니다.\n",
        "    * 조건문 내부에 대하여 띄어쓰기를 4번 사용합니다.\n",
        "    * 어떠한 값이 다른 값과 동일한지 구할 때는 등호를 2번 사용해 \"==\"라고 씁니다."
      ],
      "metadata": {
        "id": "5qHJkimoLJIB"
      }
    },
    {
      "cell_type": "code",
      "source": [
        "x = int(input())\n",
        "y = int(input())\n",
        "\n",
        "if y == 0:\n",
        "    print('0으로 나눌 수 없습니다.')\n",
        "else:\n",
        "    print(x / y)"
      ],
      "metadata": {
        "id": "zA76bzJXLMHR",
        "colab": {
          "base_uri": "https://localhost:8080/"
        },
        "outputId": "9fe87d7c-f336-495d-8394-b0d2509fa1fb"
      },
      "execution_count": 44,
      "outputs": [
        {
          "output_type": "stream",
          "name": "stdout",
          "text": [
            "9\n",
            "4\n",
            "2.25\n"
          ]
        }
      ]
    },
    {
      "cell_type": "markdown",
      "source": [
        "* if에 해당하지 않는다면 elif가 수행되고, 위쪽에 있는 모든 조건문에 해당하지 않을 때 else 구문이 실행됩니다.\n",
        "    * 이때 elif나 else는 옵션으로, 없어도 됩니다."
      ],
      "metadata": {
        "id": "6oPGt7t4LMMw"
      }
    },
    {
      "cell_type": "code",
      "source": [
        "score = 90\n",
        "\n",
        "if score >= 94: # 94점부터 100점\n",
        "    print('1등급입니다.')\n",
        "elif score >= 87: # 93점부터 87점\n",
        "    print('2등급입니다.')\n",
        "elif score >= 81: # 86점부터 81점\n",
        "    print('3등급입니다.')\n",
        "else:\n",
        "    print('3등급 미만입니다.')"
      ],
      "metadata": {
        "colab": {
          "base_uri": "https://localhost:8080/"
        },
        "id": "p3v-RSZILOBQ",
        "outputId": "facbabf6-8dc5-436c-c373-303bd9a06c14"
      },
      "execution_count": 47,
      "outputs": [
        {
          "output_type": "stream",
          "name": "stdout",
          "text": [
            "2등급입니다.\n"
          ]
        }
      ]
    },
    {
      "cell_type": "markdown",
      "source": [
        "#### <b>2) 반복문</b>\n",
        "\n",
        "* 반복적인 작업을 수행할 때 사용합니다."
      ],
      "metadata": {
        "id": "lqkqh7v-LO7w"
      }
    },
    {
      "cell_type": "code",
      "source": [
        "for x in [1, 2, 3, 4, 5, 6, 7, 8, 9]:\n",
        "    print(x)"
      ],
      "metadata": {
        "id": "7GG-3Ri8LR05",
        "colab": {
          "base_uri": "https://localhost:8080/"
        },
        "outputId": "562f47b7-8263-48e6-f5c2-ae94a47c9528"
      },
      "execution_count": 48,
      "outputs": [
        {
          "output_type": "stream",
          "name": "stdout",
          "text": [
            "1\n",
            "2\n",
            "3\n",
            "4\n",
            "5\n",
            "6\n",
            "7\n",
            "8\n",
            "9\n"
          ]
        }
      ]
    },
    {
      "cell_type": "markdown",
      "source": [
        "* for문은 어떠한 시퀀스의 원소에 차례대로 접근한다는 점에서 range() 함수와 함께 사용됩니다.\n",
        "    * range(start, end) 형태가 가장 많이 사용됩니다.\n",
        "* for문과 range() 함수를 배웠기 때문에, 다양한 프로그램을 작성할 수 있습니다.\n",
        "* 1부터 50까지의 수를 더한 값을 계산해 봅시다."
      ],
      "metadata": {
        "id": "PcHNQ-KNLS1Q"
      }
    },
    {
      "cell_type": "code",
      "source": [
        "result = 0\n",
        "for i in range(1, 51): # 1부터 50까지 방문\n",
        "    result += i\n",
        "\n",
        "print(result)"
      ],
      "metadata": {
        "id": "NQP9Ri3dLUTd",
        "colab": {
          "base_uri": "https://localhost:8080/"
        },
        "outputId": "3e6b57d0-d23a-448c-ba72-639ecf386c06"
      },
      "execution_count": 49,
      "outputs": [
        {
          "output_type": "stream",
          "name": "stdout",
          "text": [
            "1275\n"
          ]
        }
      ]
    },
    {
      "cell_type": "markdown",
      "source": [
        "* 1부터 50까지의 수 중에서 10의 배수만 더하는 프로그램을 작성할 수 있습니다."
      ],
      "metadata": {
        "id": "Oi0Hnl4kLVIY"
      }
    },
    {
      "cell_type": "code",
      "source": [
        "result = 0\n",
        "for i in range(1, 51):\n",
        "    if i % 10 == 0:\n",
        "        result += i\n",
        "\n",
        "print(result)"
      ],
      "metadata": {
        "id": "Ool3-tTeLV9Z",
        "colab": {
          "base_uri": "https://localhost:8080/"
        },
        "outputId": "65d8bde7-f775-42f0-fbb6-8db82bdd4d41"
      },
      "execution_count": 50,
      "outputs": [
        {
          "output_type": "stream",
          "name": "stdout",
          "text": [
            "150\n"
          ]
        }
      ]
    },
    {
      "cell_type": "markdown",
      "source": [
        "* enumerate() 함수를 사용하면 인덱스와 함께 반복할 수 있습니다."
      ],
      "metadata": {
        "id": "sbsNH7a3LXQ5"
      }
    },
    {
      "cell_type": "code",
      "source": [
        "name_list = ['홍길동', '이순신', '장보고']\n",
        "\n",
        "for i, element in enumerate(name_list):\n",
        "    print(i, element)"
      ],
      "metadata": {
        "id": "aKtsJKy0LYHJ",
        "colab": {
          "base_uri": "https://localhost:8080/"
        },
        "outputId": "02df733c-587c-4e47-a118-7217374de487"
      },
      "execution_count": 51,
      "outputs": [
        {
          "output_type": "stream",
          "name": "stdout",
          "text": [
            "0 홍길동\n",
            "1 이순신\n",
            "2 장보고\n"
          ]
        }
      ]
    },
    {
      "cell_type": "markdown",
      "source": [
        "* 반복문을 중첩해서 사용할 수도 있습니다.\n",
        "    * 구구단 예제를 확인해 봅시다."
      ],
      "metadata": {
        "id": "2sgpyIvJLY9A"
      }
    },
    {
      "cell_type": "code",
      "source": [
        "for i in range(1, 10):\n",
        "    for j in range(1, 10):\n",
        "        print(i, \"X\", j, \"=\", i * j)"
      ],
      "metadata": {
        "id": "ieARhrsdLZs7",
        "colab": {
          "base_uri": "https://localhost:8080/"
        },
        "outputId": "ad92e766-9856-411a-f0af-816273b77384"
      },
      "execution_count": 52,
      "outputs": [
        {
          "output_type": "stream",
          "name": "stdout",
          "text": [
            "1 X 1 = 1\n",
            "1 X 2 = 2\n",
            "1 X 3 = 3\n",
            "1 X 4 = 4\n",
            "1 X 5 = 5\n",
            "1 X 6 = 6\n",
            "1 X 7 = 7\n",
            "1 X 8 = 8\n",
            "1 X 9 = 9\n",
            "2 X 1 = 2\n",
            "2 X 2 = 4\n",
            "2 X 3 = 6\n",
            "2 X 4 = 8\n",
            "2 X 5 = 10\n",
            "2 X 6 = 12\n",
            "2 X 7 = 14\n",
            "2 X 8 = 16\n",
            "2 X 9 = 18\n",
            "3 X 1 = 3\n",
            "3 X 2 = 6\n",
            "3 X 3 = 9\n",
            "3 X 4 = 12\n",
            "3 X 5 = 15\n",
            "3 X 6 = 18\n",
            "3 X 7 = 21\n",
            "3 X 8 = 24\n",
            "3 X 9 = 27\n",
            "4 X 1 = 4\n",
            "4 X 2 = 8\n",
            "4 X 3 = 12\n",
            "4 X 4 = 16\n",
            "4 X 5 = 20\n",
            "4 X 6 = 24\n",
            "4 X 7 = 28\n",
            "4 X 8 = 32\n",
            "4 X 9 = 36\n",
            "5 X 1 = 5\n",
            "5 X 2 = 10\n",
            "5 X 3 = 15\n",
            "5 X 4 = 20\n",
            "5 X 5 = 25\n",
            "5 X 6 = 30\n",
            "5 X 7 = 35\n",
            "5 X 8 = 40\n",
            "5 X 9 = 45\n",
            "6 X 1 = 6\n",
            "6 X 2 = 12\n",
            "6 X 3 = 18\n",
            "6 X 4 = 24\n",
            "6 X 5 = 30\n",
            "6 X 6 = 36\n",
            "6 X 7 = 42\n",
            "6 X 8 = 48\n",
            "6 X 9 = 54\n",
            "7 X 1 = 7\n",
            "7 X 2 = 14\n",
            "7 X 3 = 21\n",
            "7 X 4 = 28\n",
            "7 X 5 = 35\n",
            "7 X 6 = 42\n",
            "7 X 7 = 49\n",
            "7 X 8 = 56\n",
            "7 X 9 = 63\n",
            "8 X 1 = 8\n",
            "8 X 2 = 16\n",
            "8 X 3 = 24\n",
            "8 X 4 = 32\n",
            "8 X 5 = 40\n",
            "8 X 6 = 48\n",
            "8 X 7 = 56\n",
            "8 X 8 = 64\n",
            "8 X 9 = 72\n",
            "9 X 1 = 9\n",
            "9 X 2 = 18\n",
            "9 X 3 = 27\n",
            "9 X 4 = 36\n",
            "9 X 5 = 45\n",
            "9 X 6 = 54\n",
            "9 X 7 = 63\n",
            "9 X 8 = 72\n",
            "9 X 9 = 81\n"
          ]
        }
      ]
    },
    {
      "cell_type": "markdown",
      "source": [
        "* 1부터 N까지의 수 중에서 소수를 찾는 프로그램을 작성할 수 있습니다.\n",
        "    * 소수가 아닌 경우, 어떤 수의 배수인지 출력한 뒤에 해당 수에 대한 반복문을 탈출합니다.\n",
        "    * break 구문은 해당 break 구문을 포함하는 반복문을 탈출합니다."
      ],
      "metadata": {
        "id": "pBo78sD8LZ-Z"
      }
    },
    {
      "cell_type": "code",
      "source": [
        "n = 10\n",
        "for x in range(2, n + 1):\n",
        "    prime_number = True\n",
        "    for y in range(2, x):\n",
        "        if x % y == 0: # 나누어 떨어지는 수가 있다면\n",
        "            print(x, \"=\", y, \"*\", x // y)\n",
        "            prime_number = False\n",
        "            break # 반복문 탈출\n",
        "    if prime_number:\n",
        "        print(x, \"은(는) 소수입니다.\")"
      ],
      "metadata": {
        "id": "Oqo-jKHQLbB0",
        "colab": {
          "base_uri": "https://localhost:8080/"
        },
        "outputId": "81f58332-668f-48f9-a034-9ba8c7b4f891"
      },
      "execution_count": 57,
      "outputs": [
        {
          "output_type": "stream",
          "name": "stdout",
          "text": [
            "2 은(는) 소수입니다.\n",
            "3 은(는) 소수입니다.\n",
            "4 = 2 * 2\n",
            "5 은(는) 소수입니다.\n",
            "6 = 2 * 3\n",
            "7 은(는) 소수입니다.\n",
            "8 = 2 * 4\n",
            "9 = 3 * 3\n",
            "10 = 2 * 5\n"
          ]
        }
      ]
    },
    {
      "cell_type": "markdown",
      "source": [
        "#### <b>3) 함수</b>\n",
        "\n",
        "* 함수를 이용해 소스 코드를 기능별로 분리할 수 있습니다.\n",
        "    * 각 부품(함수)이 서로 조화를 이루어 하나의 완성된 프로그램을 만들 수 있습니다.\n",
        "* 함수는 def 구문을 이용하여 작성할 수 있습니다.\n",
        "* 세 개의 수를 입력받아 더한 결과를 반환하는 함수를 작성해 봅시다."
      ],
      "metadata": {
        "id": "9O8cBEjwLcVZ"
      }
    },
    {
      "cell_type": "code",
      "source": [
        "def add(a, b, c):\n",
        "    result = a + b + c\n",
        "    return result\n",
        "\n",
        "print(add(3, 5, 7))"
      ],
      "metadata": {
        "id": "r5JLY1p6LddD",
        "colab": {
          "base_uri": "https://localhost:8080/"
        },
        "outputId": "0e83f633-1346-4953-c65c-85e2bfab3c35"
      },
      "execution_count": null,
      "outputs": [
        {
          "output_type": "stream",
          "name": "stdout",
          "text": [
            "15\n"
          ]
        }
      ]
    },
    {
      "cell_type": "code",
      "source": [
        "def add(a, b, c):\n",
        "    result = a + b + c\n",
        "    return result\n",
        "\n",
        "print(add(3, 5, 7))\n",
        "print(add(5, 5, 2))\n",
        "print(add(100, 200, 300))"
      ],
      "metadata": {
        "id": "UiyEUQUULfP4",
        "colab": {
          "base_uri": "https://localhost:8080/"
        },
        "outputId": "58246d9a-8ae7-4987-d1fc-2296c5a63b23"
      },
      "execution_count": null,
      "outputs": [
        {
          "output_type": "stream",
          "name": "stdout",
          "text": [
            "15\n",
            "12\n",
            "600\n"
          ]
        }
      ]
    },
    {
      "cell_type": "markdown",
      "source": [
        "* 리스트 내 원소 중에서 가장 큰 값의 인덱스(위치)를 찾아서 반환하는 함수를 작성해 봅시다."
      ],
      "metadata": {
        "id": "dWNSMY3ZLeyx"
      }
    },
    {
      "cell_type": "code",
      "source": [
        "def find_max_index(arr):\n",
        "    max_index = 0\n",
        "    for i in range(len(arr)):\n",
        "        if arr[max_index] < arr[i]: # 더 큰 값을 찾은 경우\n",
        "            max_index = i\n",
        "    return max_index\n",
        "\n",
        "data = [7, 1, 5, 9, 3, 2, 4]\n",
        "max_index = find_max_index(data)\n",
        "print(max_index)"
      ],
      "metadata": {
        "id": "RM8AMXsRLiCQ",
        "colab": {
          "base_uri": "https://localhost:8080/"
        },
        "outputId": "5d3e82a2-e771-4205-dcb2-8fa9a59f63a5"
      },
      "execution_count": 55,
      "outputs": [
        {
          "output_type": "stream",
          "name": "stdout",
          "text": [
            "3\n"
          ]
        }
      ]
    },
    {
      "cell_type": "markdown",
      "source": [
        "* 특정한 값을 가지는 원소의 인덱스를 찾는 함수를 작성해 봅시다."
      ],
      "metadata": {
        "id": "1ixFP9gMLi4B"
      }
    },
    {
      "cell_type": "code",
      "source": [
        "def find_certain_value(arr, value):\n",
        "    for i, x in enumerate(arr):\n",
        "        if x == value:\n",
        "            return i\n",
        "    return -1 # 찾지 못한 경우 -1을 반환\n",
        "\n",
        "print(find_certain_value([3, 5, 7, 9], 2))\n",
        "print(find_certain_value([3, 5, 7, 9], 7))"
      ],
      "metadata": {
        "id": "a8pIZireLjuB",
        "colab": {
          "base_uri": "https://localhost:8080/"
        },
        "outputId": "0c9b51a8-12d1-4dc7-89a2-e03a1abad116"
      },
      "execution_count": null,
      "outputs": [
        {
          "output_type": "stream",
          "name": "stdout",
          "text": [
            "-1\n",
            "2\n"
          ]
        }
      ]
    },
    {
      "cell_type": "markdown",
      "source": [
        "#### <b>4) 코딩 테스트에서 자주 사용되는 라이브러리</b>\n",
        "\n",
        "* 파이썬(Python)에서는 코딩 테스트에서 효과적으로 사용할 수 있는 다양한 내장함수 및 라이브러리를 제공합니다."
      ],
      "metadata": {
        "id": "6n-S8T9OIjtn"
      }
    },
    {
      "cell_type": "code",
      "source": [
        "data = [7, 2, 5, 4, 1]\n",
        "\n",
        "print(sum(data))\n",
        "print(min(data))\n",
        "print(max(data))\n",
        "print(sorted(data))"
      ],
      "metadata": {
        "colab": {
          "base_uri": "https://localhost:8080/"
        },
        "id": "gy0KBnJWIqn1",
        "outputId": "8917a743-ec28-4bc3-cc18-036a26ffe31a"
      },
      "execution_count": null,
      "outputs": [
        {
          "output_type": "stream",
          "name": "stdout",
          "text": [
            "19\n",
            "1\n",
            "7\n",
            "[1, 2, 4, 5, 7]\n"
          ]
        }
      ]
    },
    {
      "cell_type": "markdown",
      "source": [
        "* itertools 모듈에서는 다양한 경우의 수 관련 함수를 제공합니다."
      ],
      "metadata": {
        "id": "bOVlVpNaIt7H"
      }
    },
    {
      "cell_type": "code",
      "source": [
        "# 순열\n",
        "from itertools import permutations\n",
        "\n",
        "arr = [\"A\", \"B\", \"C\"]\n",
        "result = list(permutations(arr, 2))\n",
        "print(result)"
      ],
      "metadata": {
        "colab": {
          "base_uri": "https://localhost:8080/"
        },
        "id": "AnsKnYlQIx2G",
        "outputId": "2d1b30b1-e263-4196-e200-7f4a0cae828d"
      },
      "execution_count": null,
      "outputs": [
        {
          "output_type": "stream",
          "name": "stdout",
          "text": [
            "[('A', 'B'), ('A', 'C'), ('B', 'A'), ('B', 'C'), ('C', 'A'), ('C', 'B')]\n"
          ]
        }
      ]
    },
    {
      "cell_type": "code",
      "source": [
        "# 조합\n",
        "from itertools import combinations\n",
        "\n",
        "arr = [\"A\", \"B\", \"C\"]\n",
        "result = list(combinations(arr, 2))\n",
        "print(result)"
      ],
      "metadata": {
        "colab": {
          "base_uri": "https://localhost:8080/"
        },
        "id": "qow2qGv3I1Kq",
        "outputId": "885806e6-9802-4a17-961b-6c0b8e074917"
      },
      "execution_count": null,
      "outputs": [
        {
          "output_type": "stream",
          "name": "stdout",
          "text": [
            "[('A', 'B'), ('A', 'C'), ('B', 'C')]\n"
          ]
        }
      ]
    },
    {
      "cell_type": "code",
      "source": [
        "# 중복 순열\n",
        "from itertools import product\n",
        "\n",
        "arr = [\"A\", \"B\", \"C\"]\n",
        "result = list(product(arr, repeat=2))\n",
        "print(result)"
      ],
      "metadata": {
        "colab": {
          "base_uri": "https://localhost:8080/"
        },
        "id": "7GtebKMzI4UN",
        "outputId": "5873eee5-24a2-43e3-90a0-7e3a3443fc4b"
      },
      "execution_count": null,
      "outputs": [
        {
          "output_type": "stream",
          "name": "stdout",
          "text": [
            "[('A', 'A'), ('A', 'B'), ('A', 'C'), ('B', 'A'), ('B', 'B'), ('B', 'C'), ('C', 'A'), ('C', 'B'), ('C', 'C')]\n"
          ]
        }
      ]
    },
    {
      "cell_type": "code",
      "source": [
        "# 중복 조합\n",
        "from itertools import combinations_with_replacement\n",
        "\n",
        "arr = [\"A\", \"B\", \"C\"]\n",
        "result = list(combinations_with_replacement(arr, 2))\n",
        "print(result)"
      ],
      "metadata": {
        "colab": {
          "base_uri": "https://localhost:8080/"
        },
        "id": "RyHevImgI47v",
        "outputId": "3b628ff2-a410-46a2-83e7-a1f00f4a224b"
      },
      "execution_count": null,
      "outputs": [
        {
          "output_type": "stream",
          "name": "stdout",
          "text": [
            "[('A', 'A'), ('A', 'B'), ('A', 'C'), ('B', 'B'), ('B', 'C'), ('C', 'C')]\n"
          ]
        }
      ]
    },
    {
      "cell_type": "markdown",
      "source": [
        "* 우선순위 큐(priority queue)의 목적으로 힙(heap)을 사용할 수 있습니다.\n",
        "* 파이썬에서는 heapq 라이브러리를 제공하며, 이는 최소 힙(min heap)을 따릅니다.\n",
        "  * 힙에 원소를 삽입하거나 삭제할 때 O(logN)의 시간 복잡도를 요구합니다.\n",
        "* 따라서 단순히 힙에 모든 원소를 넣었다가 빼는 것만으로도 O(NlogN)의 시간 복잡도를 보장하며 오름차순 정렬을 수행할 수 있습니다."
      ],
      "metadata": {
        "id": "X3UvJlI44asw"
      }
    },
    {
      "cell_type": "code",
      "source": [
        "import heapq\n",
        "\n",
        "arr = [5, 2, 9, 8, 7, 3, 4, 1, 6]\n",
        "heap = []\n",
        "result = []\n",
        "\n",
        "for x in arr:\n",
        "    heapq.heappush(heap, x)\n",
        "\n",
        "for i in range(len(heap)):\n",
        "    x = heapq.heappop(heap)\n",
        "    result.append(x)\n",
        "\n",
        "print(result)"
      ],
      "metadata": {
        "colab": {
          "base_uri": "https://localhost:8080/"
        },
        "id": "OnCQGgf54evy",
        "outputId": "3ef13a89-1367-4967-fddd-5a5acd953ba4"
      },
      "execution_count": null,
      "outputs": [
        {
          "output_type": "stream",
          "name": "stdout",
          "text": [
            "[1, 2, 3, 4, 5, 6, 7, 8, 9]\n"
          ]
        }
      ]
    },
    {
      "cell_type": "markdown",
      "source": [
        "#### <b>5) 코딩 테스트에서의 입출력</b>\n",
        "\n",
        "* 알고리즘 문제에서는 다음과 같은 설명과 함께 입력이 주어지는 경우가 많습니다.\n",
        "\n",
        "<pre>\n",
        "▶ 첫째 줄에는 학생의 수가 100 이하의 자연수로 주어진다.\n",
        "▶ 둘째 줄에는 각 학생의 점수가 100 이하의 양의 정수로 공백을 기준으로 구분되어 주어진다.\n",
        "</pre>\n",
        "\n",
        "* 예를 들어 다음과 같이 입력이 주어집니다.\n",
        "\n",
        "<pre>\n",
        "5\n",
        "35 92 89 54 22\n",
        "</pre>\n",
        "\n",
        "* 이때, 다음과 같이 입력을 받을 수 있습니다."
      ],
      "metadata": {
        "id": "e5xrK2xWJGoo"
      }
    },
    {
      "cell_type": "code",
      "source": [
        "n = int(input())\n",
        "arr = list(map(int, input().split()))\n",
        "\n",
        "print(n)\n",
        "print(arr)"
      ],
      "metadata": {
        "id": "G8Wam_2LJPFb",
        "colab": {
          "base_uri": "https://localhost:8080/"
        },
        "outputId": "34500150-d0eb-47e9-cad9-8e2c63f55ced"
      },
      "execution_count": 53,
      "outputs": [
        {
          "output_type": "stream",
          "name": "stdout",
          "text": [
            "5\n",
            "35 92 89 54 22\n",
            "5\n",
            "[35, 92, 89, 54, 22]\n"
          ]
        }
      ]
    },
    {
      "cell_type": "markdown",
      "source": [
        "* 파이썬을 이용해 알고리즘 문제를 풀다 보면, 입력 문자열이 다수의 라인으로 구성되는 경우가 있습니다.\n",
        "  * 이러한 경우 입력이 너무 많아서, 입력 과정에서 시간 초과가 발생할 수 있습니다.\n",
        "  * 예를 들어 1,000,000줄의 입력이 들어오는 경우 기본적인 input() 내장 함수를 이용할 때 1초 이상의 시간이 걸릴 수 있습니다.\n",
        "* 따라서 sys 모듈에 포함된 readline을 input 대신에 사용하여 빠르게 입력받을 수 있습니다.\n",
        "  * 이때, readline은 개행문자 \"\\n\"까지 읽어 들이므로, rstrip() 함수를 이용해 개행 문자를 제거할 수 있습니다.\n",
        "\n",
        "<pre>\n",
        "import sys\n",
        "input = sys.stdin.readline\n",
        "</pre>\n",
        "\n",
        "* 예를 들어 다음과 같이 사용할 수 있습니다."
      ],
      "metadata": {
        "id": "yVSMPD39JfK4"
      }
    },
    {
      "cell_type": "code",
      "source": [
        "import sys\n",
        "input = sys.stdin.readline\n",
        "\n",
        "data = input().rstrip()\n",
        "print(data)"
      ],
      "metadata": {
        "id": "Hb47sA90JjaY",
        "colab": {
          "base_uri": "https://localhost:8080/"
        },
        "outputId": "87839de8-cbb3-40d8-c7d2-49e05b07fcf1"
      },
      "execution_count": null,
      "outputs": [
        {
          "output_type": "stream",
          "name": "stdout",
          "text": [
            "\n"
          ]
        }
      ]
    },
    {
      "cell_type": "markdown",
      "source": [
        "* 파이썬에서는 f-string을 사용하면 원하는 형태에 맞게 간단히 문자열을 출력할 수 있습니다."
      ],
      "metadata": {
        "id": "xDpJJR_e33WA"
      }
    },
    {
      "cell_type": "code",
      "source": [
        "score = 70\n",
        "print(f\"학생의 점수는 {score}점 입니다.\")"
      ],
      "metadata": {
        "colab": {
          "base_uri": "https://localhost:8080/"
        },
        "id": "bMgfy4Pa38Lg",
        "outputId": "966947c1-1232-4821-a823-6b66cdfa0522"
      },
      "execution_count": 54,
      "outputs": [
        {
          "output_type": "stream",
          "name": "stdout",
          "text": [
            "학생의 점수는 70점 입니다.\n"
          ]
        }
      ]
    }
  ]
}