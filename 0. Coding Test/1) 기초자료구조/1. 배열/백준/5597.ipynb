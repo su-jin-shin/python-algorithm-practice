{
 "cells": [
  {
   "cell_type": "markdown",
   "id": "2b0c09c0-529d-47f6-992c-1ff436401396",
   "metadata": {},
   "source": [
    "이 문제는 배열(수열, 체크배열, 카운트배열) 중 체크배열을 사용해야 하는 문제이다.!\n",
    "\n",
    "==========\n",
    "문제\n",
    "X대학 M교수님은 프로그래밍 수업을 맡고 있다. 교실엔 학생이 30명이 있는데, 학생 명부엔 각 학생별로 1번부터 30번까지 출석번호가 붙어 있다.\n",
    "\n",
    "교수님이 내준 특별과제를 28명이 제출했는데, 그 중에서 제출 안 한 학생 2명의 출석번호를 구하는 프로그램을 작성하시오.\n",
    "\n",
    "입력\n",
    "입력은 총 28줄로 각 제출자(학생)의 출석번호 n(1 ≤ n ≤ 30)가 한 줄에 하나씩 주어진다. 출석번호에 중복은 없다.\n",
    "\n",
    "출력\n",
    "출력은 2줄이다. 1번째 줄엔 제출하지 않은 학생의 출석번호 중 가장 작은 것을 출력하고, 2번째 줄에선 그 다음 출석번호를 출력한다."
   ]
  },
  {
   "cell_type": "code",
   "execution_count": 8,
   "id": "1c4ff315-447e-4d39-b5c2-43a5b8327eb9",
   "metadata": {},
   "outputs": [
    {
     "name": "stdin",
     "output_type": "stream",
     "text": [
      " 1\n",
      " 2\n",
      " 3\n",
      " 4\n",
      " 5\n",
      " 6\n",
      " 7\n",
      " 8\n",
      " 9\n",
      " 10\n",
      " 11\n",
      " 12\n",
      " 13\n",
      " 14\n",
      " 15\n",
      " 16\n",
      " 17\n",
      " 20\n",
      " 21\n",
      " 22\n",
      " 23\n",
      " 24\n",
      " 25\n",
      " 26\n",
      " 27\n",
      " 28\n",
      " 29\n",
      " 30\n"
     ]
    },
    {
     "name": "stdout",
     "output_type": "stream",
     "text": [
      "18\n",
      "19\n"
     ]
    }
   ],
   "source": [
    "check_array = [0] * 30\n",
    "\n",
    "for i in range(28): \n",
    "    #(이 반복문 안에서) i 사용 필요없나?? -> 필요 없음 (이럴 때 for _ in range(28) 로 표기하면 되는 듯!!!)\n",
    "    input_number = int(input()) \n",
    "    check_array[input_number - 1] = 1 \n",
    "\n",
    "answer = [] \n",
    "for i in range(30): # 이 부분 작성하는데에서 막혔음. 0에서 29번 인덱스까지 순회해야함. #또는 for i, v in enumerate(check_array):\n",
    "    if check_array[i] == 0: \n",
    "        answer.append(i+1) #append할 필요없고 여기서 그냥 print(i+1)로 해도 돼. \n",
    "\n",
    "print(answer[0]) \n",
    "print(answer[1])"
   ]
  },
  {
   "cell_type": "code",
   "execution_count": 5,
   "id": "ebe68a45-6502-40bc-bf5b-58b139a80809",
   "metadata": {},
   "outputs": [
    {
     "name": "stdin",
     "output_type": "stream",
     "text": [
      " 1\n",
      " 2\n",
      " 5\n",
      " 6\n",
      " 7\n",
      " 8\n",
      " 9\n",
      " 10\n",
      " 11\n",
      " 12\n",
      " 13\n",
      " 14\n",
      " 15\n",
      " 16\n",
      " 17\n",
      " 18\n",
      " 19\n",
      " 20\n",
      " 21\n",
      " 22\n",
      " 23\n",
      " 24\n",
      " 25\n",
      " 26\n",
      " 27\n",
      " 28\n",
      " 29\n",
      " 30\n"
     ]
    },
    {
     "name": "stdout",
     "output_type": "stream",
     "text": [
      "3\n",
      "4\n"
     ]
    }
   ],
   "source": [
    "check_array = [0] * 31 # 학생 번호랑 인덱스랑 맞추려고 아예 31로 선언\n",
    "\n",
    "for _ in range(28):\n",
    "    input_value = int(input())\n",
    "    check_array[input_value] = 1\n",
    "\n",
    "for i in range(1,31): # 1이상 31 미만임!!! (1,30)으로 적으면 안됨!!!\n",
    "    if check_array[i] == 0:\n",
    "        print(i)"
   ]
  },
  {
   "cell_type": "code",
   "execution_count": null,
   "id": "9bb79ccd-30de-4ce9-a5f3-b2de53a0c252",
   "metadata": {},
   "outputs": [],
   "source": []
  }
 ],
 "metadata": {
  "kernelspec": {
   "display_name": "Python 3 (ipykernel)",
   "language": "python",
   "name": "python3"
  },
  "language_info": {
   "codemirror_mode": {
    "name": "ipython",
    "version": 3
   },
   "file_extension": ".py",
   "mimetype": "text/x-python",
   "name": "python",
   "nbconvert_exporter": "python",
   "pygments_lexer": "ipython3",
   "version": "3.13.5"
  }
 },
 "nbformat": 4,
 "nbformat_minor": 5
}
