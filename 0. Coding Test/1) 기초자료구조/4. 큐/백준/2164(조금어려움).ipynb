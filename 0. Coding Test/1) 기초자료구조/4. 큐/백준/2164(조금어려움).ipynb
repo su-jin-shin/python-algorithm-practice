{
 "cells": [
  {
   "cell_type": "code",
   "execution_count": 3,
   "id": "f724362b-1a3d-48f2-b568-6a3095247fbc",
   "metadata": {},
   "outputs": [
    {
     "name": "stdin",
     "output_type": "stream",
     "text": [
      " 4\n"
     ]
    },
    {
     "name": "stdout",
     "output_type": "stream",
     "text": [
      "4\n"
     ]
    }
   ],
   "source": [
    "'''\n",
    "문제\n",
    "N장의 카드가 있다. 각각의 카드는 차례로 1부터 N까지의 번호가 붙어 있으며, 1번 카드가 제일 위에, N번 카드가 제일 아래인 상태로 순서대로 카드가 놓여 있다.\n",
    "\n",
    "이제 다음과 같은 동작을 카드가 한 장 남을 때까지 반복하게 된다. 우선, 제일 위에 있는 카드를 바닥에 버린다. 그 다음, 제일 위에 있는 카드를 제일 아래에 있는 카드 밑으로 옮긴다.\n",
    "\n",
    "예를 들어 N=4인 경우를 생각해 보자. 카드는 제일 위에서부터 1234 의 순서로 놓여있다. 1을 버리면 234가 남는다. 여기서 2를 제일 아래로 옮기면 342가 된다. 3을 버리면 42가 되고, 4를 밑으로 옮기면 24가 된다. 마지막으로 2를 버리고 나면, 남는 카드는 4가 된다.\n",
    "\n",
    "N이 주어졌을 때, 제일 마지막에 남게 되는 카드를 구하는 프로그램을 작성하시오.\n",
    "\n",
    "입력\n",
    "첫째 줄에 정수 N(1 ≤ N ≤ 500,000)이 주어진다.\n",
    "\n",
    "출력\n",
    "첫째 줄에 남게 되는 카드의 번호를 출력한다.\n",
    "'''\n",
    "\n",
    "from collections import deque\n",
    "\n",
    "N = int(input())\n",
    "d = deque([])\n",
    "\n",
    "for i in range(N): # 이거를 d = deque([i+1 for i in range(N)]) 로 축약할 수 있다.\n",
    "    d.append(i+1)\n",
    "\n",
    "\n",
    "\n",
    "''' 이렇게만 하니까 N=1일때(카드 한장만일때) 에러남\n",
    "for _ in range(N):\n",
    "    d.popleft()\n",
    "    \n",
    "    if len(d) == 1:\n",
    "        print(d[0])\n",
    "        break\n",
    "    else:\n",
    "        removed = d.popleft()\n",
    "        d.append(removed)\n",
    "'''\n",
    "\n",
    "if N == 1: # 이렇게 분기 처리 해주어야 한다!!!!!!!\n",
    "    print(1)\n",
    "else:\n",
    "    for _ in range(N):\n",
    "        d.popleft()\n",
    "        \n",
    "        if len(d) == 1:\n",
    "            print(d[0])\n",
    "            break\n",
    "        else:\n",
    "            removed = d.popleft()\n",
    "            d.append(removed)"
   ]
  },
  {
   "cell_type": "code",
   "execution_count": 4,
   "id": "a3069862-16ed-49cc-8bec-d9dbb0b81159",
   "metadata": {},
   "outputs": [
    {
     "name": "stdin",
     "output_type": "stream",
     "text": [
      " 4\n"
     ]
    },
    {
     "name": "stdout",
     "output_type": "stream",
     "text": [
      "4\n"
     ]
    }
   ],
   "source": [
    "# GPT 풀이\n",
    "\n",
    "N = int(input())\n",
    "d = deque([i+1 for i in range(N)])\n",
    "\n",
    "while len(d) > 1:\n",
    "    d.popleft()\n",
    "    d.append(d.popleft())\n",
    "\n",
    "print(d[0])"
   ]
  },
  {
   "cell_type": "code",
   "execution_count": null,
   "id": "ac4111e8-ea8d-4e4a-9eb4-a2998520862e",
   "metadata": {},
   "outputs": [],
   "source": []
  }
 ],
 "metadata": {
  "kernelspec": {
   "display_name": "Python 3 (ipykernel)",
   "language": "python",
   "name": "python3"
  },
  "language_info": {
   "codemirror_mode": {
    "name": "ipython",
    "version": 3
   },
   "file_extension": ".py",
   "mimetype": "text/x-python",
   "name": "python",
   "nbconvert_exporter": "python",
   "pygments_lexer": "ipython3",
   "version": "3.13.5"
  }
 },
 "nbformat": 4,
 "nbformat_minor": 5
}
