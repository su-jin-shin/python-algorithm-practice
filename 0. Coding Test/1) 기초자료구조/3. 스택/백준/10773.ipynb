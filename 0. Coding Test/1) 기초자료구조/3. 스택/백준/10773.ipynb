{
 "cells": [
  {
   "cell_type": "markdown",
   "id": "4cd06bd4-4baf-4ef5-b178-da24045c5724",
   "metadata": {},
   "source": [
    "문제\n",
    "나코더 기장 재민이는 동아리 회식을 준비하기 위해서 장부를 관리하는 중이다.\n",
    "\n",
    "재현이는 재민이를 도와서 돈을 관리하는 중인데, 애석하게도 항상 정신없는 재현이는 돈을 실수로 잘못 부르는 사고를 치기 일쑤였다.\n",
    "\n",
    "재현이는 잘못된 수를 부를 때마다 0을 외쳐서, 가장 최근에 재민이가 쓴 수를 지우게 시킨다.\n",
    "\n",
    "재민이는 이렇게 모든 수를 받아 적은 후 그 수의 합을 알고 싶어 한다. 재민이를 도와주자!\n",
    "\n",
    "==========================================================<br>\n",
    "입력\n",
    "첫 번째 줄에 정수 K가 주어진다. (1 ≤ K ≤ 100,000)\n",
    "\n",
    "이후 K개의 줄에 정수가 1개씩 주어진다. 정수는 0에서 1,000,000 사이의 값을 가지며, 정수가 \"0\" 일 경우에는 가장 최근에 쓴 수를 지우고, 아닐 경우 해당 수를 쓴다.\n",
    "\n",
    "정수가 \"0\"일 경우에 지울 수 있는 수가 있음을 보장할 수 있다.\n",
    "\n",
    "==========================================================<br>\n",
    "출력\n",
    "재민이가 최종적으로 적어 낸 수의 합을 출력한다. 최종적으로 적어낸 수의 합은 (2의 31승)-1보다 작거나 같은 정수이다."
   ]
  },
  {
   "cell_type": "code",
   "execution_count": 8,
   "id": "e3e4c2f8-017c-4c1d-a513-708bca26af8f",
   "metadata": {},
   "outputs": [
    {
     "name": "stdin",
     "output_type": "stream",
     "text": [
      " 4\n",
      " 1\n",
      " 2\n",
      " 0\n",
      " 0\n"
     ]
    },
    {
     "name": "stdout",
     "output_type": "stream",
     "text": [
      "0\n"
     ]
    }
   ],
   "source": [
    "K = int(input())\n",
    "stack = [] # 리스트를 스택처럼 쓸수있다. (스택 자료구조처럼 활용 가능)\n",
    "\n",
    "for _ in range(K):\n",
    "    i = int(input()) # 처음에 input = int(input()) 로 했는데 에러 남. input()함수가 input변수로 덮어씌워지기 때문에. (파이썬은 그렇다고 한다. 같은 input이라는 객체로 본다고 한다..) \n",
    "    \n",
    "    if i == 0:\n",
    "        stack.pop() #pop(-1)도 가능. pop()안에는 index가 옴. [비교] append()안에는 index가 아닌 값이 옴!!\n",
    "    else:\n",
    "        stack.append(i)\n",
    "\n",
    "sum = 0\n",
    "for s in stack:\n",
    "    sum += s\n",
    "\n",
    "print(sum)"
   ]
  },
  {
   "cell_type": "code",
   "execution_count": null,
   "id": "1297fd56-1e3f-4fc1-ae81-ccbe4f5bfcb5",
   "metadata": {},
   "outputs": [],
   "source": []
  }
 ],
 "metadata": {
  "kernelspec": {
   "display_name": "Python 3 (ipykernel)",
   "language": "python",
   "name": "python3"
  },
  "language_info": {
   "codemirror_mode": {
    "name": "ipython",
    "version": 3
   },
   "file_extension": ".py",
   "mimetype": "text/x-python",
   "name": "python",
   "nbconvert_exporter": "python",
   "pygments_lexer": "ipython3",
   "version": "3.13.5"
  }
 },
 "nbformat": 4,
 "nbformat_minor": 5
}
