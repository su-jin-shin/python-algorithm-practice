{
 "cells": [
  {
   "cell_type": "markdown",
   "id": "36dc6994-ebe3-41c9-8e9c-027e626a73c3",
   "metadata": {},
   "source": [
    "입력\n",
    "첫째 줄에 단어 S가 주어진다. 단어의 길이는 100을 넘지 않으며, 알파벳 소문자로만 이루어져 있다.\n",
    "\n",
    "출력\n",
    "각각의 알파벳에 대해서, a가 처음 등장하는 위치, b가 처음 등장하는 위치, ... z가 처음 등장하는 위치를 공백으로 구분해서 출력한다.\n",
    "\n",
    "만약, 어떤 알파벳이 단어에 포함되어 있지 않다면 -1을 출력한다. 단어의 첫 번째 글자는 0번째 위치이고, 두 번째 글자는 1번째 위치이다.\n",
    "\n",
    "\n",
    "=========<br>\n",
    "예제 입력<br>\n",
    "baekjoon<br>\n",
    "=========<br>\n",
    "예제 출력<br>\n",
    "1 0 -1 -1 2 -1 -1 -1 -1 4 3 -1 -1 7 5 -1 -1 -1 -1 -1 -1 -1 -1 -1 -1 -1"
   ]
  },
  {
   "cell_type": "code",
   "execution_count": null,
   "id": "46860172-ba12-4117-b343-cc7e07504ede",
   "metadata": {},
   "outputs": [],
   "source": [
    "'''\n",
    "b -> 0번째\n",
    "a -> 1번째\n",
    "..\n",
    "'''\n",
    "\n",
    "S = input()\n",
    "\n",
    "for i in S:\n",
    "    "
   ]
  },
  {
   "cell_type": "code",
   "execution_count": 15,
   "id": "f3fd722b-8aed-4791-8beb-9ed18fbe3f07",
   "metadata": {},
   "outputs": [
    {
     "name": "stdin",
     "output_type": "stream",
     "text": [
      " banana\n"
     ]
    },
    {
     "name": "stdout",
     "output_type": "stream",
     "text": [
      "1 0 -1 -1 -1 -1 -1 -1 -1 -1 -1 -1 -1 2 -1 -1 -1 -1 -1 -1 -1 -1 -1 -1 -1 -1 "
     ]
    }
   ],
   "source": [
    "S = input()\n",
    "\n",
    "check_array = [-1] * 26 # 알파벳 개수는 26개!!!!! # a,b,c,d,e,f,g,h,i,j,k,l,m,n,o,p,q,r,s,t,u,v,w,x,y,z\n",
    "\n",
    "'''\n",
    "[원리]\n",
    "'b' - 'a' = 1 (b는 1번 인덱스..로 이용)\n",
    "'c' - 'a' = 2 (c는 2번 인덱스)\n",
    ".\n",
    ".\n",
    ".\n",
    "\n",
    "[외워!!!!!!!!!]\n",
    "ord('문자') → 정수(유니코드 값)\n",
    "chr(정수) → 문자\n",
    "\n",
    "ord() 함수는 문자 → 유니코드 코드 포인트(정수) 로 변환해 주는 파이썬 내장 함수야.\n",
    "즉, 문자 하나를 입력하면 그 문자에 해당하는 숫자(코드 값)를 돌려주는 함수야.\n",
    "\n",
    "print(ord('A'))   # 65\n",
    "print(ord('a'))   # 97\n",
    "print(ord('가'))  # 44032\n",
    "\n",
    "'A' → 아스키코드 65\n",
    "'a' → 아스키코드 97\n",
    "'가' → 유니코드 44032\n",
    "\n",
    "print(chr(65))    # 'A'\n",
    "print(chr(97))    # 'a'\n",
    "'''\n",
    "\n",
    "\n",
    "for i, s in enumerate(S): # for i in range(len(S)): 도 가능 .. -> S[i]이렇게 접\n",
    "    alphabet_index = ord(s) - ord('a')\n",
    "    if check_array[alphabet_index] == -1:\n",
    "        check_array[alphabet_index] = i\n",
    "\n",
    "for c in check_array:\n",
    "    print(c, end=' ')\n",
    "      "
   ]
  },
  {
   "cell_type": "code",
   "execution_count": null,
   "id": "fbcfd71d-cf32-462e-afe3-800951ccd832",
   "metadata": {},
   "outputs": [],
   "source": []
  }
 ],
 "metadata": {
  "kernelspec": {
   "display_name": "Python 3 (ipykernel)",
   "language": "python",
   "name": "python3"
  },
  "language_info": {
   "codemirror_mode": {
    "name": "ipython",
    "version": 3
   },
   "file_extension": ".py",
   "mimetype": "text/x-python",
   "name": "python",
   "nbconvert_exporter": "python",
   "pygments_lexer": "ipython3",
   "version": "3.13.5"
  }
 },
 "nbformat": 4,
 "nbformat_minor": 5
}
