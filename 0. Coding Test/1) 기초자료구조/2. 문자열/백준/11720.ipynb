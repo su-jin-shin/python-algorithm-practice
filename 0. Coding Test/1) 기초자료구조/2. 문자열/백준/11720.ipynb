{
 "cells": [
  {
   "cell_type": "code",
   "execution_count": 3,
   "id": "992484d2-b814-48a0-8bb4-7f7813635664",
   "metadata": {},
   "outputs": [
    {
     "name": "stdin",
     "output_type": "stream",
     "text": [
      " 1\n",
      " 7\n"
     ]
    },
    {
     "name": "stdout",
     "output_type": "stream",
     "text": [
      "7\n"
     ]
    }
   ],
   "source": [
    "'''\n",
    "문제\n",
    "N개의 숫자가 공백 없이 쓰여있다. 이 숫자를 모두 합해서 출력하는 프로그램을 작성하시오.\n",
    "\n",
    "입력\n",
    "첫째 줄에 숫자의 개수 N (1 ≤ N ≤ 100)이 주어진다. 둘째 줄에 숫자 N개가 공백없이 주어진다.\n",
    "\n",
    "출력\n",
    "입력으로 주어진 숫자 N개의 합을 출력한다.\n",
    "'''\n",
    "\n",
    "N = int(input())\n",
    "number = input()\n",
    "\n",
    "sum = 0\n",
    "for i in range(N):\n",
    "    sum += int(number[i]) #이거를 처음에 sum += number[i]로 작성해서 에러남..\n",
    "    \n",
    "print(sum)"
   ]
  },
  {
   "cell_type": "code",
   "execution_count": 13,
   "id": "b2bd5c8e-99c5-45b6-849e-ecbbd5af066f",
   "metadata": {},
   "outputs": [
    {
     "name": "stdin",
     "output_type": "stream",
     "text": [
      " 6\n",
      " 123456\n"
     ]
    },
    {
     "name": "stdout",
     "output_type": "stream",
     "text": [
      "21\n"
     ]
    }
   ],
   "source": [
    "# 선생님 풀이\n",
    "\n",
    "N = int(input())\n",
    "number = input()\n",
    "\n",
    "'''\n",
    "ord('9') - ord('0') = 9 (9의 아스키코드 - 0의 아스키코드 = 9)\n",
    "ord('8') - ord('8') = 8\n",
    "\n",
    "print(ord('0')) 하면 48을 출력함..\n",
    "'''\n",
    "\n",
    "sum = 0\n",
    "for i in range(N):\n",
    "    sum += ord(number[i]) - ord('0')\n",
    "\n",
    "print(sum)"
   ]
  },
  {
   "cell_type": "code",
   "execution_count": 4,
   "id": "1804cb3e-1213-44a9-ab00-af90c7593ef1",
   "metadata": {},
   "outputs": [
    {
     "data": {
      "text/plain": [
       "48"
      ]
     },
     "execution_count": 4,
     "metadata": {},
     "output_type": "execute_result"
    }
   ],
   "source": [
    "ord('0')"
   ]
  },
  {
   "cell_type": "code",
   "execution_count": null,
   "id": "4c2420f8-2908-44b3-978e-491f8fbc6f85",
   "metadata": {},
   "outputs": [],
   "source": []
  }
 ],
 "metadata": {
  "kernelspec": {
   "display_name": "Python 3 (ipykernel)",
   "language": "python",
   "name": "python3"
  },
  "language_info": {
   "codemirror_mode": {
    "name": "ipython",
    "version": 3
   },
   "file_extension": ".py",
   "mimetype": "text/x-python",
   "name": "python",
   "nbconvert_exporter": "python",
   "pygments_lexer": "ipython3",
   "version": "3.13.5"
  }
 },
 "nbformat": 4,
 "nbformat_minor": 5
}
