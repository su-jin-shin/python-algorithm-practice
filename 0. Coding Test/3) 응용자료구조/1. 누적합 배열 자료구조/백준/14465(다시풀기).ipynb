{
 "cells": [
  {
   "cell_type": "code",
   "execution_count": null,
   "id": "e6010138-7769-4e38-bde9-dd89c3fe3290",
   "metadata": {},
   "outputs": [],
   "source": [
    "'''\n",
    "문제\n",
    "농부 존의 농장에 원형 길이 있다고 했지만, 길은 그뿐만이 아니다. 그 옆에 일자형 길이 있는데, 1번부터 N번까지의 번호가 붙은 횡단보도 N (1 ≤ N ≤ 100,000)개로 이루어져 있다. 교통사고를 방지하기 위해 존은 각 횡단보도에 신호등을 설치해 놓았다. 그러던 어느 날, 강력한 뇌우로 인해 몇몇 신호등이 망가졌다. 존은 연속한 K개의 신호등이 존재하도록 신호등을 수리하고 싶다. 이번에도 우리가 존을 도와주자.\n",
    "\n",
    "입력\n",
    "첫 줄에 N, K, B (1 ≤ B,K ≤ N)가 주어진다. 그 다음 B줄에는 고장난 신호등의 번호가 하나씩 주어진다.\n",
    "\n",
    "출력\n",
    "정상적으로 작동하는 연속 K개의 신호등이 존재하려면 최소 몇 개의 신호등을 수리해야 하는지 출력한다.\n",
    "\n",
    "예제 입력 1 \n",
    "10 6 5\n",
    "2\n",
    "10\n",
    "1\n",
    "5\n",
    "9\n",
    "\n",
    "예제 출력 1 \n",
    "1\n",
    "'''"
   ]
  },
  {
   "cell_type": "code",
   "execution_count": 3,
   "id": "87fcbb37-2009-413f-a714-4e1397e930e3",
   "metadata": {},
   "outputs": [
    {
     "name": "stdin",
     "output_type": "stream",
     "text": [
      " 10 6 5\n",
      " 2\n",
      " 10\n",
      " 1\n",
      " 5\n",
      " 9\n"
     ]
    },
    {
     "name": "stdout",
     "output_type": "stream",
     "text": [
      "1\n"
     ]
    }
   ],
   "source": [
    "N, K, B = map(int, input().split())\n",
    "\n",
    "arr = [1] * N\n",
    "\n",
    "for _ in range(B):\n",
    "    broken_num = int(input()) # \n",
    "    arr[broken_num - 1] = 0\n",
    "\n",
    "sum_arr = []\n",
    "total = 0\n",
    "for a in arr:\n",
    "    total += a\n",
    "    sum_arr.append(total)\n",
    "\n",
    "max_value = -1\n",
    "for i in range(K-1, N):\n",
    "    if max_value == K:\n",
    "        break\n",
    "        \n",
    "    if i == K-1:\n",
    "        max_value = max(max_value, sum_arr[i])\n",
    "    else:\n",
    "        max_value = max(max_value, sum_arr[i] - sum_arr[i-K])\n",
    "\n",
    "print(K - max_value)\n"
   ]
  },
  {
   "cell_type": "code",
   "execution_count": null,
   "id": "d5325860-7177-44b3-8403-eb5120e72fc6",
   "metadata": {},
   "outputs": [],
   "source": [
    "# 강사님 풀이도 보기"
   ]
  }
 ],
 "metadata": {
  "kernelspec": {
   "display_name": "Python 3 (ipykernel)",
   "language": "python",
   "name": "python3"
  },
  "language_info": {
   "codemirror_mode": {
    "name": "ipython",
    "version": 3
   },
   "file_extension": ".py",
   "mimetype": "text/x-python",
   "name": "python",
   "nbconvert_exporter": "python",
   "pygments_lexer": "ipython3",
   "version": "3.13.5"
  }
 },
 "nbformat": 4,
 "nbformat_minor": 5
}
