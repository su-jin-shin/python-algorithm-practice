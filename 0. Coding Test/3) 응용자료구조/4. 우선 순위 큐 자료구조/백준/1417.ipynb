{
 "cells": [
  {
   "cell_type": "code",
   "execution_count": null,
   "id": "93dadf79-50cd-483d-a50e-edbd93690993",
   "metadata": {},
   "outputs": [],
   "source": [
    "'''\n",
    "문제\n",
    "다솜이는 사람의 마음을 읽을 수 있는 기계를 가지고 있다. 다솜이는 이 기계를 이용해서 2008년 4월 9일 국회의원 선거를 조작하려고 한다.\n",
    "\n",
    "다솜이의 기계는 각 사람들이 누구를 찍을 지 미리 읽을 수 있다. 어떤 사람이 누구를 찍을 지 정했으면, 반드시 선거때 그 사람을 찍는다.\n",
    "\n",
    "현재 형택구에 나온 국회의원 후보는 N명이다. 다솜이는 이 기계를 이용해서 그 마을의 주민 M명의 마음을 모두 읽었다.\n",
    "\n",
    "다솜이는 기호 1번이다. 다솜이는 사람들의 마음을 읽어서 자신을 찍지 않으려는 사람을 돈으로 매수해서 국회의원에 당선이 되게 하려고 한다. 다른 모든 사람의 득표수 보다 많은 득표수를 가질 때, 그 사람이 국회의원에 당선된다.\n",
    "\n",
    "예를 들어서, 마음을 읽은 결과 기호 1번이 5표, 기호 2번이 7표, 기호 3번이 7표 라고 한다면, 다솜이는 2번 후보를 찍으려고 하던 사람 1명과, 3번 후보를 찍으려고 하던 사람 1명을 돈으로 매수하면, 국회의원에 당선이 된다.\n",
    "\n",
    "돈으로 매수한 사람은 반드시 다솜이를 찍는다고 가정한다.\n",
    "\n",
    "다솜이가 매수해야하는 사람의 최솟값을 출력하는 프로그램을 작성하시오.\n",
    "\n",
    "입력\n",
    "첫째 줄에 후보의 수 N이 주어진다. 둘째 줄부터 차례대로 기호 1번을 찍으려고 하는 사람의 수, 기호 2번을 찍으려고 하는 수, 이렇게 총 N개의 줄에 걸쳐 입력이 들어온다. N은 50보다 작거나 같은 자연수이고, 득표수는 100보다 작거나 같은 자연수이다.\n",
    "\n",
    "출력\n",
    "첫째 줄에 다솜이가 매수해야 하는 사람의 최솟값을 출력한다.\n",
    "\n",
    "예제 입력 1 \n",
    "3\n",
    "5\n",
    "7\n",
    "7\n",
    "예제 출력 1 \n",
    "2\n",
    "\n",
    "예제 입력 2 \n",
    "4\n",
    "10\n",
    "10\n",
    "10\n",
    "10\n",
    "예제 출력 2 \n",
    "1\n",
    "\n",
    "예제 입력 3 \n",
    "1\n",
    "1\n",
    "예제 출력 3 \n",
    "0\n",
    "\n",
    "예제 입력 4 \n",
    "5\n",
    "5\n",
    "10\n",
    "7\n",
    "3\n",
    "8\n",
    "예제 출력 4 \n",
    "4\n",
    "'''"
   ]
  },
  {
   "cell_type": "code",
   "execution_count": 1,
   "id": "146b4863-bf7b-464b-8e0e-3e366bc98e0f",
   "metadata": {},
   "outputs": [
    {
     "name": "stdin",
     "output_type": "stream",
     "text": [
      " 5\n",
      " 5\n",
      " 10\n",
      " 7\n",
      " 3\n",
      " 8\n"
     ]
    },
    {
     "name": "stdout",
     "output_type": "stream",
     "text": [
      "4\n"
     ]
    }
   ],
   "source": [
    "from queue import PriorityQueue\n",
    "\n",
    "N = int(input())\n",
    "arr = [0] * N\n",
    "\n",
    "for i in range(N):\n",
    "    arr[i] = int(input())\n",
    "\n",
    "pq = PriorityQueue() # 우선순위큐 선언(우선순위큐 만듦..) # 최소값을 우선적으로 반환하는 큐!!\n",
    "for i in range(1, N):\n",
    "    pq.put(-arr[i]) # ⭐외워~~!! pq.put(값)임!!⭐ 우선순위큐에 다솜이를 제외한 다른 후보의 득표수 담음\n",
    "    # ⭐⭐ 근데 지금 이 문제에서는 최소값이 아닌 최대값 반환이 필요하다.. \n",
    "    # 그래서 - 붙이고 put해서 -> 그 값을 최대값을 최소값으로 만들어버리고 그걸 반환하기(반환후 다시 - 붙여서 최대값으로 만들면된다)\n",
    "\n",
    "if N == 1:\n",
    "    print(0)\n",
    "else:\n",
    "    count = 0\n",
    "    while True:\n",
    "        max_value = -pq.get() # ⭐ 큐에서 빼 온거여서 큐 안에는 이 값이 남지 않음 (pq.get()으로 최소값을 뺌!!!)\n",
    "        \n",
    "        if arr[0] > max_value:\n",
    "           break\n",
    "\n",
    "        arr[0] += 1\n",
    "        count += 1\n",
    "        max_value -= 1\n",
    "        pq.put(-max_value) # ⭐ 큐에 값을 넣음\n",
    "    \n",
    "    print(count)\n",
    "    "
   ]
  },
  {
   "cell_type": "code",
   "execution_count": null,
   "id": "e770e089-7c37-45f8-aade-bbcaad81b256",
   "metadata": {},
   "outputs": [],
   "source": []
  }
 ],
 "metadata": {
  "kernelspec": {
   "display_name": "Python 3 (ipykernel)",
   "language": "python",
   "name": "python3"
  },
  "language_info": {
   "codemirror_mode": {
    "name": "ipython",
    "version": 3
   },
   "file_extension": ".py",
   "mimetype": "text/x-python",
   "name": "python",
   "nbconvert_exporter": "python",
   "pygments_lexer": "ipython3",
   "version": "3.13.5"
  }
 },
 "nbformat": 4,
 "nbformat_minor": 5
}
