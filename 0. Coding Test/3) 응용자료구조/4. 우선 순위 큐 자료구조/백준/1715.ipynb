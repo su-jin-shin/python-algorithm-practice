{
 "cells": [
  {
   "cell_type": "code",
   "execution_count": null,
   "id": "3c5ef004-4c91-49dd-941b-b2aa683aac4b",
   "metadata": {},
   "outputs": [],
   "source": [
    "'''\n",
    "문제\n",
    "정렬된 두 묶음의 숫자 카드가 있다고 하자. 각 묶음의 카드의 수를 A, B라 하면 보통 두 묶음을 합쳐서 하나로 만드는 데에는 A+B 번의 비교를 해야 한다. 이를테면, 20장의 숫자 카드 묶음과 30장의 숫자 카드 묶음을 합치려면 50번의 비교가 필요하다.\n",
    "\n",
    "매우 많은 숫자 카드 묶음이 책상 위에 놓여 있다. 이들을 두 묶음씩 골라 서로 합쳐나간다면, 고르는 순서에 따라서 비교 횟수가 매우 달라진다. 예를 들어 10장, 20장, 40장의 묶음이 있다면 10장과 20장을 합친 뒤, 합친 30장 묶음과 40장을 합친다면 (10 + 20) + (30 + 40) = 100번의 비교가 필요하다. 그러나 10장과 40장을 합친 뒤, 합친 50장 묶음과 20장을 합친다면 (10 + 40) + (50 + 20) = 120 번의 비교가 필요하므로 덜 효율적인 방법이다.\n",
    "\n",
    "N개의 숫자 카드 묶음의 각각의 크기가 주어질 때, 최소한 몇 번의 비교가 필요한지를 구하는 프로그램을 작성하시오.\n",
    "\n",
    "입력\n",
    "첫째 줄에 N이 주어진다. (1 ≤ N ≤ 100,000) 이어서 N개의 줄에 걸쳐 숫자 카드 묶음의 각각의 크기가 주어진다. 숫자 카드 묶음의 크기는 1,000보다 작거나 같은 양의 정수이다.\n",
    "\n",
    "출력\n",
    "첫째 줄에 최소 비교 횟수를 출력한다.\n",
    "\n",
    "예제 입력 1 \n",
    "3\n",
    "10\n",
    "20\n",
    "40\n",
    "예제 출력 1 \n",
    "100\n",
    "'''"
   ]
  },
  {
   "cell_type": "code",
   "execution_count": 6,
   "id": "2d2a2839-9277-4b78-b1a9-db315a124b30",
   "metadata": {},
   "outputs": [
    {
     "name": "stdin",
     "output_type": "stream",
     "text": [
      " 3\n",
      " 10\n",
      " 20\n",
      " 40\n"
     ]
    },
    {
     "name": "stdout",
     "output_type": "stream",
     "text": [
      "100\n"
     ]
    }
   ],
   "source": [
    "# 내 풀이 (누적합 방식으로 풀었는데 틀림..... 즉 맞는 코드 아님)\n",
    "\n",
    "N = int(input())\n",
    "M = []\n",
    "for _ in range(N):\n",
    "    i = int(input()) # 여기 또 괄호 하나 뺴먹는 실수해서..[M.append(int(input()))] 변수 분리시킴...\n",
    "    M.append(i)\n",
    "\n",
    "M = sorted(M)\n",
    "   \n",
    "total = 0\n",
    "total_list = []\n",
    "for m in M:\n",
    "    total += m\n",
    "    total_list.append(total)\n",
    "\n",
    "print(sum(total_list) - total_list[0])"
   ]
  },
  {
   "cell_type": "code",
   "execution_count": null,
   "id": "c67c2482-1b1a-4a3f-9691-3d448b29d185",
   "metadata": {},
   "outputs": [],
   "source": []
  }
 ],
 "metadata": {
  "kernelspec": {
   "display_name": "Python 3 (ipykernel)",
   "language": "python",
   "name": "python3"
  },
  "language_info": {
   "codemirror_mode": {
    "name": "ipython",
    "version": 3
   },
   "file_extension": ".py",
   "mimetype": "text/x-python",
   "name": "python",
   "nbconvert_exporter": "python",
   "pygments_lexer": "ipython3",
   "version": "3.13.5"
  }
 },
 "nbformat": 4,
 "nbformat_minor": 5
}
