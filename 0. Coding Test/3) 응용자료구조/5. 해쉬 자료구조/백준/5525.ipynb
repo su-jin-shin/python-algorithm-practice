{
 "cells": [
  {
   "cell_type": "code",
   "execution_count": null,
   "id": "c38070fa-6530-4cf5-8cfc-690aa3756c04",
   "metadata": {},
   "outputs": [],
   "source": [
    "'''\n",
    "문제\n",
    "N+1개의 I와 N개의 O로 이루어져 있으면, I와 O이 교대로 나오는 문자열을 PN이라고 한다.\n",
    "\n",
    "P1 IOI\n",
    "P2 IOIOI\n",
    "P3 IOIOIOI\n",
    "PN IOIOI...OI (O가 N개)\n",
    "I와 O로만 이루어진 문자열 S와 정수 N이 주어졌을 때, S안에 PN이 몇 군데 포함되어 있는지 구하는 프로그램을 작성하시오.\n",
    "\n",
    "입력\n",
    "첫째 줄에 N이 주어진다. 둘째 줄에는 S의 길이 M이 주어지며, 셋째 줄에 S가 주어진다.\n",
    "\n",
    "출력\n",
    "S에 PN이 몇 군데 포함되어 있는지 출력한다.\n",
    "\n",
    "제한\n",
    "1 ≤ N ≤ 1,000,000\n",
    "2N+1 ≤ M ≤ 1,000,000\n",
    "S는 I와 O로만 이루어져 있다.\n",
    "서브태스크\n",
    "번호\t배점\t제한\n",
    "1\t50\t\n",
    "N ≤ 100, M ≤ 10 000.\n",
    "\n",
    "2\t50\t\n",
    "추가적인 제약 조건이 없다.\n",
    "\n",
    "예제 입력 1 \n",
    "1\n",
    "13\n",
    "OOIOIOIOIIOII\n",
    "\n",
    "예제 출력 1 \n",
    "4\n",
    "\n",
    "============================\n",
    "예제 입력 2 \n",
    "2\n",
    "13\n",
    "OOIOIOIOIIOII\n",
    "\n",
    "예제 출력 2 \n",
    "2\n",
    "'''"
   ]
  },
  {
   "cell_type": "code",
   "execution_count": 8,
   "id": "c3a6f277-f9e0-4dbd-940d-fa08128cd42c",
   "metadata": {},
   "outputs": [
    {
     "name": "stdin",
     "output_type": "stream",
     "text": [
      " 1\n",
      " 13\n",
      " OOIOIOIOIIOII\n"
     ]
    },
    {
     "name": "stdout",
     "output_type": "stream",
     "text": [
      "4\n"
     ]
    }
   ],
   "source": [
    "# 내풀이 (50점 맞음...시간복잡도가 오래걸림...)\n",
    "import re\n",
    "\n",
    "N = int(input())\n",
    "M = int(input())\n",
    "S = input()\n",
    "\n",
    "P = ''\n",
    "for i in range(2*N + 1): # 헐 2N + 1 이라고 작성하니까 에러남. 2*N + 1로 작성해야함...\n",
    "    if i % 2 == 0:\n",
    "        P += 'I'\n",
    "    else:\n",
    "        P += 'O'\n",
    "\n",
    "# matches = re.findall(\"(?=(IOI))\", S)\n",
    "matches = re.findall(f\"(?=({P}))\", S) \n",
    "print(len(matches))"
   ]
  },
  {
   "cell_type": "code",
   "execution_count": 11,
   "id": "8a6e4fe9-63db-4170-a582-923479a1bef7",
   "metadata": {},
   "outputs": [
    {
     "name": "stdin",
     "output_type": "stream",
     "text": [
      " 2\n",
      " 13\n",
      " OOIOIOIOIIOII\n"
     ]
    },
    {
     "name": "stdout",
     "output_type": "stream",
     "text": [
      "1\n"
     ]
    }
   ],
   "source": [
    "# 내풀이 (50점 맞음...시간복잡도가 오래걸림...)\n",
    "\n",
    "N = int(input())\n",
    "M = int(input())\n",
    "S = input()\n",
    "\n",
    "P = ''\n",
    "for i in range(2*N + 1): # 헐 2N + 1 이라고 작성하니까 에러남. 2*N + 1로 작성해야함...\n",
    "    if i % 2 == 0:\n",
    "        P += 'I'\n",
    "    else:\n",
    "        P += 'O'\n",
    "# P = 'I' + 'OI' * N   # ⭐ 패턴 생성 (GPT는 이렇게 함)\n",
    "\n",
    "\n",
    "\n",
    "i = 0 # i = 0 ⭐ 선언을 안해서 에러남...ㅜㅋㅋ..\n",
    "count = 0\n",
    "while i <= M - len(P):\n",
    "    if S[i] == 'I':\n",
    "        if S[i:i + len(P)] == P: # 그 지점부터 P값이 포함되어 있다면 (이상-미만 임!!) # 원래 처음에는 P in S[i:1 + len(P)]로 했는데 불필요해서 ==로 바꿈\n",
    "            count += 1\n",
    "            i += 2 # ⭐ i를 올려주기 때문에 for문보다 while문이 적합\n",
    "        else:\n",
    "            i += 1   \n",
    "    else:\n",
    "        i += 1\n",
    "\n",
    "print(count)"
   ]
  },
  {
   "cell_type": "code",
   "execution_count": 12,
   "id": "d9c9fbc2-7f69-44c7-b545-155161a47013",
   "metadata": {},
   "outputs": [
    {
     "name": "stdin",
     "output_type": "stream",
     "text": [
      " 1\n",
      " 13\n",
      " OOIOIOIOIIOII\n"
     ]
    },
    {
     "name": "stdout",
     "output_type": "stream",
     "text": [
      "4\n"
     ]
    }
   ],
   "source": [
    "# GPT 풀이\n",
    "\n",
    "N = int(input())\n",
    "M = int(input())\n",
    "S = input()\n",
    "\n",
    "P = 'I' + ('OI' * N)\n",
    "\n",
    "\n",
    "i = 0\n",
    "count = 0\n",
    "length = 1\n",
    "\n",
    "while i <= M - len(P):\n",
    "    if S[i] == 'I' and S[i+1] == 'O' and S[i+2] == 'I':\n",
    "        length += 1\n",
    "        if length == N:\n",
    "            count += 1\n",
    "            length -= 1 # ⭐⭐⭐ 이 부분이 이해가 안감.... -> 그려보면서 하니까 이해가 가는데... 흠.. 이 코드 생각까진 못했을 듯..\n",
    "        i += 2\n",
    "    else:\n",
    "        length = 0\n",
    "        i += 1\n",
    "\n",
    "print(count)"
   ]
  },
  {
   "cell_type": "code",
   "execution_count": null,
   "id": "391cb131-0c86-4ec0-ba47-11ecfced23e9",
   "metadata": {},
   "outputs": [],
   "source": []
  }
 ],
 "metadata": {
  "kernelspec": {
   "display_name": "Python 3 (ipykernel)",
   "language": "python",
   "name": "python3"
  },
  "language_info": {
   "codemirror_mode": {
    "name": "ipython",
    "version": 3
   },
   "file_extension": ".py",
   "mimetype": "text/x-python",
   "name": "python",
   "nbconvert_exporter": "python",
   "pygments_lexer": "ipython3",
   "version": "3.13.5"
  }
 },
 "nbformat": 4,
 "nbformat_minor": 5
}
