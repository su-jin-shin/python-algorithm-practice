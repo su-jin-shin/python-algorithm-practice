{
 "cells": [
  {
   "cell_type": "code",
   "execution_count": null,
   "id": "9a01504c-31f9-4cba-9bbe-52e9b966a952",
   "metadata": {},
   "outputs": [],
   "source": [
    "'''\n",
    "문제\n",
    "상근이는 자신의 결혼식에 학교 동기 중 자신의 친구와 친구의 친구를 초대하기로 했다. 상근이의 동기는 모두 N명이고, 이 학생들의 학번은 모두 1부터 N까지이다. 상근이의 학번은 1이다.\n",
    "\n",
    "상근이는 동기들의 친구 관계를 모두 조사한 리스트를 가지고 있다. 이 리스트를 바탕으로 결혼식에 초대할 사람의 수를 구하는 프로그램을 작성하시오.\n",
    "\n",
    "입력\n",
    "첫째 줄에 상근이의 동기의 수 n (2 ≤ n ≤ 500)이 주어진다. 둘째 줄에는 리스트의 길이 m (1 ≤ m ≤ 10000)이 주어진다. 다음 줄부터 m개 줄에는 친구 관계 ai bi가 주어진다. (1 ≤ ai < bi ≤ n) ai와 bi가 친구라는 뜻이며, bi와 ai도 친구관계이다. \n",
    "\n",
    "출력\n",
    "첫째 줄에 상근이의 결혼식에 초대하는 동기의 수를 출력한다.\n",
    "\n",
    "예제 입력 1 \n",
    "6\n",
    "5\n",
    "1 2\n",
    "1 3\n",
    "3 4\n",
    "2 3\n",
    "4 5\n",
    "예제 출력 1 \n",
    "3\n",
    "'''"
   ]
  },
  {
   "cell_type": "code",
   "execution_count": 2,
   "id": "40fb12a3-cf7a-4f0b-a232-8874e9c128c8",
   "metadata": {},
   "outputs": [
    {
     "name": "stdin",
     "output_type": "stream",
     "text": [
      " 6\n",
      " 5\n",
      " 1 2\n",
      " 1 3\n",
      " 3 4\n",
      " 2 3\n",
      " 4 5\n"
     ]
    },
    {
     "name": "stdout",
     "output_type": "stream",
     "text": [
      "4\n"
     ]
    }
   ],
   "source": [
    "n = int(input())\n",
    "m = int(input())\n",
    "\n",
    "adj = [[] for _ in range(n)]\n",
    "       \n",
    "for _ in range(m):\n",
    "    a, b = map(int, input().split())\n",
    "    adj[a - 1].append(b - 1)\n",
    "    adj[b - 1].append(a - 1)\n",
    "\n",
    "check = [0] * n\n",
    "check[0] = 1 # 이건 상근이 본인임. + 그리고 결혼식 초청 대상이 1 (즉 친구이거나 친구의 친구면 1)\n",
    "\n",
    "for i in adj[0]: # ⭐ [두번째 틀린 이유] adj[0]이 아니라 check[0]으로 실수해서 에러남...\n",
    "    if check[i] == 0:\n",
    "        check[i] = 1\n",
    "        \n",
    "    for j in adj[i]:\n",
    "        if check[j] == 0:\n",
    "            check[j] = 1\n",
    "\n",
    "print(sum(check) - 1)\n",
    "\n",
    "\n",
    "'''\n",
    "3번이나 틀린 후 위와 같이 푸니 맞음...\n",
    "\n",
    "[첫번째 틀린 이유]\n",
    "문제의 조건: 상근이 친구의 친구까지만!!! 초대(한계단만 더 가면돼) (나는 친구의 친구의 친구의... 이런식으로 2606번 문제 풀이방식처럼 풀어버림)\n",
    "\n",
    "[두번째 틀린 이유]\n",
    "⭐ 위에 적음\n",
    "\n",
    "[세번째 틀린 이유]\n",
    "여기가 좀 중요한데\n",
    "\n",
    "for i in adj[0]:\n",
    "    if check[i] == 0:\n",
    "        check[i] = 1\n",
    "   \n",
    "        for j in adj[i]: # 처음에 이 for문을 if문 안에다 작성함... 근데 이렇게 하고 첫번째 예시를 돌려보니까 이상한 부분이 발생함.. 얘가 if문 밖에 있어야 모든 경우의 수가 다 돌아감 \n",
    "            if check[j] == 0:\n",
    "                check[j] = 1\n",
    "\n",
    "그냥 이건 내가 차근차근 첫번째 예시를 해보면서 문제가 있다는걸 알아냄..\n",
    "(아님 if문 밖에 놓지말고 아예 저 if문(if check[i] == 0)을 없애도 됨..)\n",
    "'''"
   ]
  },
  {
   "cell_type": "code",
   "execution_count": null,
   "id": "2613520d-e2fd-46ae-a00b-6fea252e146a",
   "metadata": {},
   "outputs": [],
   "source": [
    "# 세번째 틀린 이유를 보완해줄 수 있는 강사님 풀이 (내 풀이보다 이렇게 분리해주는게 더 합리적인 풀이 같다...)\n",
    "\n",
    "# 1. 먼저 상근이의 친구 배열을 채우기\n",
    "for i in adj[0]:\n",
    "    check[i] = 1\n",
    "\n",
    "# 2. 친구의 친구 배열을 채우기\n",
    "for i in range(1, n):\n",
    "    if check[i] == 1:\n",
    "        for j in adj[i]:\n",
    "            if j != 0 and check[j] == 0:\n",
    "                check[j] = 1\n",
    "\n",
    "# 위의 풀이로 하니 에러남.... 위의 풀이처럼 하면 상근이의 친구의 친구의 친구까지도 잡힐 수 있다. 그래서 친구의 친구 배열을 따로 만들어줘야 함\n",
    "\n",
    "# ===========================================================================\n",
    "# 2. 친구의 친구 배열을 채우기\n",
    "\n",
    "check2 = [0] * n # 친구의 친구 배열을 따로 만들어주기\n",
    "\n",
    "for i in range(1, n):\n",
    "    if check[i] == 1:\n",
    "        for j in adj[i]:\n",
    "            if j != 0 and check[j] == 0:\n",
    "                check2[j] = 1\n",
    "\n",
    "print(sum(check) - 1 + sum(check2))"
   ]
  },
  {
   "cell_type": "markdown",
   "id": "4ea22e5f-14e4-4107-8e5d-f53527fe27d7",
   "metadata": {},
   "source": [
    "# 그래서 최종 정답은"
   ]
  },
  {
   "cell_type": "code",
   "execution_count": null,
   "id": "dbe6cf2a-bfbb-4bca-af9b-d03588d16e32",
   "metadata": {},
   "outputs": [],
   "source": [
    "import sys\n",
    "input = sys.stdin.readline\n",
    "\n",
    "n = int(input())\n",
    "m = int(input())\n",
    "\n",
    "adj = [[] for _ in range(n)]\n",
    "       \n",
    "for _ in range(m):\n",
    "    a, b = map(int, input().split())\n",
    "    adj[a - 1].append(b - 1)\n",
    "    adj[b - 1].append(a - 1)\n",
    "\n",
    "check = [0] * n\n",
    "check[0] = 1 \n",
    "\n",
    "# 1. 먼저 상근이의 친구 배열을 채우기\n",
    "for i in adj[0]:\n",
    "    check[i] = 1\n",
    "\n",
    "# 2. 친구의 친구 배열을 채우기\n",
    "check2 = [0] * n\n",
    "\n",
    "for i in range(1, n):\n",
    "    if check[i] == 1:\n",
    "        for j in adj[i]:\n",
    "            if j != 0 and check[j] == 0:\n",
    "                check2[j] = 1\n",
    "\n",
    "print(sum(check) - 1 + sum(check2))"
   ]
  }
 ],
 "metadata": {
  "kernelspec": {
   "display_name": "Python 3 (ipykernel)",
   "language": "python",
   "name": "python3"
  },
  "language_info": {
   "codemirror_mode": {
    "name": "ipython",
    "version": 3
   },
   "file_extension": ".py",
   "mimetype": "text/x-python",
   "name": "python",
   "nbconvert_exporter": "python",
   "pygments_lexer": "ipython3",
   "version": "3.13.5"
  }
 },
 "nbformat": 4,
 "nbformat_minor": 5
}
