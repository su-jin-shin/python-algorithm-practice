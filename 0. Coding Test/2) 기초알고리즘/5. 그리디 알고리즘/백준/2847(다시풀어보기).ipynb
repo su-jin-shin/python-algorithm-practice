{
 "cells": [
  {
   "cell_type": "code",
   "execution_count": null,
   "id": "cf4775f1-b168-4665-8082-950d687b3752",
   "metadata": {},
   "outputs": [],
   "source": [
    "'''\n",
    "문제\n",
    "학교에서 그래픽스 수업을 들은 동준이는 수업시간에 들은 내용을 바탕으로 스마트폰 게임을 만들었다. 게임에는 총 N개의 레벨이 있고, 각 레벨을 클리어할 때 마다 점수가 주어진다. 플레이어의 점수는 레벨을 클리어하면서 얻은 점수의 합으로, 이 점수를 바탕으로 온라인 순위를 매긴다. 동준이는 레벨을 난이도 순으로 배치했다. 하지만, 실수로 쉬운 레벨이 어려운 레벨보다 점수를 많이 받는 경우를 만들었다.\n",
    "\n",
    "이 문제를 해결하기 위해 동준이는 특정 레벨의 점수를 감소시키려고 한다. 이렇게해서 각 레벨을 클리어할 때 주는 점수가 증가하게 만들려고 한다.\n",
    "\n",
    "각 레벨을 클리어할 때 얻는 점수가 주어졌을 때, 몇 번 감소시키면 되는지 구하는 프로그램을 작성하시오. 점수는 항상 양수이어야 하고, 1만큼 감소시키는 것이 1번이다. 항상 답이 존재하는 경우만 주어진다. 정답이 여러 가지인 경우에는 점수를 내리는 것을 최소한으로 하는 방법을 찾아야 한다.\n",
    "\n",
    "입력\n",
    "첫째 줄에 레벨의 수 N이 주어진다. (1 ≤ N ≤ 100) 다음 N개 줄에는 각 레벨을 클리어하면 얻는 점수가 첫 번째 레벨부터 마지막 레벨까지 순서대로 주어진다. 점수는 20,000보다 작은 양의 정수이다.\n",
    "\n",
    "출력\n",
    "첫째 줄에 점수를 몇 번 감소시키면 되는지 출력한다.\n",
    "\n",
    "예제 입력 1 \n",
    "3\n",
    "5\n",
    "5\n",
    "5\n",
    "예제 출력 1 \n",
    "3\n",
    "\n",
    "예제 입력 2 \n",
    "4\n",
    "5\n",
    "3\n",
    "7\n",
    "5\n",
    "예제 출력 2 \n",
    "6\n",
    "'''"
   ]
  },
  {
   "cell_type": "markdown",
   "id": "0984367d-3246-48fe-a49b-13ffcd59d02e",
   "metadata": {},
   "source": [
    "### 문해력 때문인건가.. 처음에 무슨 문제인지 이해를 못 했음..\n",
    "### 그리고 이 문제의 핵심은.. 예제1을 풀어보면.. 역순으로 풀어야 문제가 해결됨 <- '뒤에서부터 조건을 맞춰 내려간다'를 깨닫는게 핵심 (앞에서부터 순서대로 풀면 안되는 테스트케이스가 있음. 그게 예제 1)"
   ]
  },
  {
   "cell_type": "code",
   "execution_count": 17,
   "id": "a90dec4b-3708-4e98-b75e-9e9383ec690c",
   "metadata": {},
   "outputs": [
    {
     "name": "stdin",
     "output_type": "stream",
     "text": [
      " 4\n",
      " 5\n",
      " 3\n",
      " 7\n",
      " 5\n"
     ]
    },
    {
     "name": "stdout",
     "output_type": "stream",
     "text": [
      "6\n"
     ]
    }
   ],
   "source": [
    "N = int(input())\n",
    "scores = []\n",
    "for _ in range(N):\n",
    "    M = int(input())\n",
    "    scores.append(M) # ⭐ M변수로 만들지 않고 바로 scores.append(int(input())) 이렇게 했는데.. 괄호가 ) 몇개 빠져서 에러남...\n",
    "\n",
    "total = 0\n",
    "for i in range(N-2, -1, -1): # ⭐ 감소하는 반복문을 처음 사용해보아서 생소했음... 그래서 인덱스에러 발생..\n",
    "    if scores[i] >= scores[i+1]:\n",
    "        value = scores[i] - scores[i+1] + 1\n",
    "        total += value\n",
    "        scores[i] -= value\n",
    "\n",
    "print(total)\n",
    "    "
   ]
  },
  {
   "cell_type": "code",
   "execution_count": null,
   "id": "775d3328-1f08-471b-b9d7-e8db98a6c65f",
   "metadata": {},
   "outputs": [],
   "source": [
    "# 강사님 풀이\n",
    "N = int(input())\n",
    "L = [0] * N\n",
    "\n",
    "for i in range(N):\n",
    "    L[i] = int(input()) # <- 이런식으로 작성하심..."
   ]
  }
 ],
 "metadata": {
  "kernelspec": {
   "display_name": "Python 3 (ipykernel)",
   "language": "python",
   "name": "python3"
  },
  "language_info": {
   "codemirror_mode": {
    "name": "ipython",
    "version": 3
   },
   "file_extension": ".py",
   "mimetype": "text/x-python",
   "name": "python",
   "nbconvert_exporter": "python",
   "pygments_lexer": "ipython3",
   "version": "3.13.5"
  }
 },
 "nbformat": 4,
 "nbformat_minor": 5
}
