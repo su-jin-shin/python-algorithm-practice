{
 "cells": [
  {
   "cell_type": "code",
   "execution_count": null,
   "id": "16a2e1ef-1e70-406d-a24a-787046230a8f",
   "metadata": {},
   "outputs": [],
   "source": [
    "'''\n",
    "문제\n",
    "N개의 정수로 이루어진 배열 A가 주어진다. 이때, 배열에 들어있는 정수의 순서를 적절히 바꿔서 다음 식의 최댓값을 구하는 프로그램을 작성하시오.\n",
    "\n",
    "|A[0] - A[1]| + |A[1] - A[2]| + ... + |A[N-2] - A[N-1]|\n",
    "\n",
    "입력\n",
    "첫째 줄에 N (3 ≤ N ≤ 8)이 주어진다. 둘째 줄에는 배열 A에 들어있는 정수가 주어진다. 배열에 들어있는 정수는 -100보다 크거나 같고, 100보다 작거나 같다.\n",
    "\n",
    "출력\n",
    "첫째 줄에 배열에 들어있는 수의 순서를 적절히 바꿔서 얻을 수 있는 식의 최댓값을 출력한다.\n",
    "\n",
    "예제 입력 1 \n",
    "6\n",
    "20 1 15 8 4 10\n",
    "\n",
    "예제 출력 1 \n",
    "62\n",
    "'''"
   ]
  },
  {
   "cell_type": "code",
   "execution_count": 2,
   "id": "94d75a68-edbb-412e-be72-b245fa3727c8",
   "metadata": {},
   "outputs": [
    {
     "name": "stdin",
     "output_type": "stream",
     "text": [
      " 6\n",
      " 20 1 15 8 4 10\n"
     ]
    },
    {
     "name": "stdout",
     "output_type": "stream",
     "text": [
      "62\n"
     ]
    }
   ],
   "source": [
    "from itertools import permutations\n",
    "import sys\n",
    "#input = sys.stdin.readline\n",
    "\n",
    "N = int(input())\n",
    "nums = list(map(int, input().split())) # 변수명 nums로 해도 통과하긴 했는데 문제에 나온대로 한다면 A라고 하는게 맞을듯\n",
    "\n",
    "# |A[0] - A[1]| + |A[1] - A[2]| + ... + |A[N-2] - A[N-1]| => ⭐⭐ 이 규칙을 보고 abs(p_num[i-1] - p_num[i]) 이걸 생각해내야 하는데 여기서 좀 막힘...(참나..어려운게 아닌데 ㅠㅠ)\n",
    "p_nums = list(permutations(nums, N))\n",
    "current_top_num = 0\n",
    "\n",
    "#p_nums = [(1,2,3,4,5,6), (2,3,4,5,6,7)]\n",
    "#p_num = (1,2,3,4,5,6)\n",
    "for p_num in p_nums:\n",
    "    total = 0\n",
    "    for i, p in enumerate(p_num):\n",
    "        if i == 0:\n",
    "            continue\n",
    "        total += abs(p_num[i-1] - p_num[i]) # 이 부분 별거 아닌거였는데... 이걸 생각해내기가 어려웠음..\n",
    "    if total > current_top_num:\n",
    "        current_top_num = total # ⭐⭐ [강사님] current_top_num = max(total, current_top_num) 이렇게 하심!!!!!\n",
    "\n",
    "print(current_top_num)\n",
    "\n",
    "'''\n",
    "[걍 참고만]\n",
    "    for i, p in enumerate(p_num):\n",
    "        if i == 0:\n",
    "            continue\n",
    "        total += abs(p_num[i-1] - p_num[i]) # 난 이렇게 풀었는데...\n",
    "\n",
    "    for i in range(N - 1):\n",
    "        total += abs(p_num[i] - p_num[i+1]) # 강사님은 이런식으로 푸셨음..\n",
    "'''\n",
    "\n"
   ]
  },
  {
   "cell_type": "code",
   "execution_count": null,
   "id": "ca1dbd8e-5d43-40e7-9e2b-7781d9783e69",
   "metadata": {},
   "outputs": [],
   "source": []
  }
 ],
 "metadata": {
  "kernelspec": {
   "display_name": "Python 3 (ipykernel)",
   "language": "python",
   "name": "python3"
  },
  "language_info": {
   "codemirror_mode": {
    "name": "ipython",
    "version": 3
   },
   "file_extension": ".py",
   "mimetype": "text/x-python",
   "name": "python",
   "nbconvert_exporter": "python",
   "pygments_lexer": "ipython3",
   "version": "3.13.5"
  }
 },
 "nbformat": 4,
 "nbformat_minor": 5
}
