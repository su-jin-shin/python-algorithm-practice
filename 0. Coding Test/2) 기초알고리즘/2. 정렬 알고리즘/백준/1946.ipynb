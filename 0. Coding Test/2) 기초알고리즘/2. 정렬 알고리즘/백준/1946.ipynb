{
 "cells": [
  {
   "cell_type": "code",
   "execution_count": 1,
   "id": "54d5e4eb-5178-47cd-95e9-37b5ec5393dc",
   "metadata": {},
   "outputs": [
    {
     "name": "stdin",
     "output_type": "stream",
     "text": [
      " 5\n",
      " 1\n",
      " 1\n"
     ]
    },
    {
     "ename": "ValueError",
     "evalue": "not enough values to unpack (expected 2, got 1)",
     "output_type": "error",
     "traceback": [
      "\u001b[1;31m---------------------------------------------------------------------------\u001b[0m",
      "\u001b[1;31mValueError\u001b[0m                                Traceback (most recent call last)",
      "Cell \u001b[1;32mIn[1], line 46\u001b[0m\n\u001b[0;32m     44\u001b[0m candidates \u001b[38;5;241m=\u001b[39m []\n\u001b[0;32m     45\u001b[0m \u001b[38;5;28;01mfor\u001b[39;00m _ \u001b[38;5;129;01min\u001b[39;00m \u001b[38;5;28mrange\u001b[39m(N):\n\u001b[1;32m---> 46\u001b[0m     s, m \u001b[38;5;241m=\u001b[39m \u001b[38;5;28mmap\u001b[39m(\u001b[38;5;28mint\u001b[39m, \u001b[38;5;28minput\u001b[39m()\u001b[38;5;241m.\u001b[39msplit())\n\u001b[0;32m     47\u001b[0m     candidates\u001b[38;5;241m.\u001b[39mappend((s, m))\n\u001b[0;32m     49\u001b[0m top_rank \u001b[38;5;241m=\u001b[39m N \u001b[38;5;241m+\u001b[39m \u001b[38;5;241m1\u001b[39m\n",
      "\u001b[1;31mValueError\u001b[0m: not enough values to unpack (expected 2, got 1)"
     ]
    }
   ],
   "source": [
    "'''\n",
    "문제\n",
    "언제나 최고만을 지향하는 굴지의 대기업 진영 주식회사가 신규 사원 채용을 실시한다. 인재 선발 시험은 1차 서류심사와 2차 면접시험으로 이루어진다. 최고만을 지향한다는 기업의 이념에 따라 그들은 최고의 인재들만을 사원으로 선발하고 싶어 한다.\n",
    "\n",
    "그래서 진영 주식회사는, 다른 모든 지원자와 비교했을 때 서류심사 성적과 면접시험 성적 중 적어도 하나가 다른 지원자보다 떨어지지 않는 자만 선발한다는 원칙을 세웠다. 즉, 어떤 지원자 A의 성적이 다른 어떤 지원자 B의 성적에 비해 서류 심사 결과와 면접 성적이 모두 떨어진다면 A는 결코 선발되지 않는다.\n",
    "\n",
    "이러한 조건을 만족시키면서, 진영 주식회사가 이번 신규 사원 채용에서 선발할 수 있는 신입사원의 최대 인원수를 구하는 프로그램을 작성하시오.\n",
    "\n",
    "입력\n",
    "첫째 줄에는 테스트 케이스의 개수 T(1 ≤ T ≤ 20)가 주어진다. 각 테스트 케이스의 첫째 줄에 지원자의 숫자 N(1 ≤ N ≤ 100,000)이 주어진다. 둘째 줄부터 N개 줄에는 각각의 지원자의 서류심사 성적, 면접 성적의 순위가 공백을 사이에 두고 한 줄에 주어진다. 두 성적 순위는 모두 1위부터 N위까지 동석차 없이 결정된다고 가정한다.\n",
    "\n",
    "출력\n",
    "각 테스트 케이스에 대해서 진영 주식회사가 선발할 수 있는 신입사원의 최대 인원수를 한 줄에 하나씩 출력한다.\n",
    "\n",
    "예제 입력 1 \n",
    "2\n",
    "5\n",
    "3 2\n",
    "1 4\n",
    "4 1\n",
    "2 3\n",
    "5 5\n",
    "7\n",
    "3 6\n",
    "7 3\n",
    "4 2\n",
    "1 4\n",
    "5 7\n",
    "2 5\n",
    "6 1\n",
    "\n",
    "예제 출력 1  \n",
    "4\n",
    "3\n",
    "'''\n",
    "\n",
    "import sys\n",
    "# input = sys.stdin.readline # ⭐ 백준에서 제출할 때 이부분만 추가\n",
    "\n",
    "T = int(input())\n",
    "\n",
    "for _ in range(T):   \n",
    "    N = int(input())\n",
    "    candidates = []\n",
    "    for _ in range(N):\n",
    "        s, m = map(int, input().split())\n",
    "        candidates.append((s, m)) # 튜플로 만들어서 리스트에 append함\n",
    "    \n",
    "    top_rank = N + 1 # ⭐ 여기서 헷갈렸는데 높은순위(1등..)를 써주면 안되고 하위순위를 써줘야함!!!!!!!!!!!!! 강사님은 아예 1e9로 해놓음(10억등)\n",
    "    count = 0\n",
    "    candidates.sort()\n",
    "    for c in candidates: # c자체가 튜플이기 때문에 c[i][1]이렇게 접근하는게 아니라 c[1]로 접근해야함... 아님 candidates[i][1] 이렇게 접근하든가\n",
    "        if c[1] < top_rank:\n",
    "            top_rank = c[1]\n",
    "            count += 1\n",
    "    \n",
    "    print(count)  #⭐중요⭐문제 자체만 읽어보면 출력이 모든 입력 다 끝나고 한번에 나오는건가 싶었는데, 한개의 테스트 케이스 각각 출력해줘도 무방한가 봄!!!!!!!!\n",
    "    "
   ]
  },
  {
   "cell_type": "code",
   "execution_count": null,
   "id": "213be780-bf5f-480c-a3c5-11fd2a3dd425",
   "metadata": {},
   "outputs": [],
   "source": []
  }
 ],
 "metadata": {
  "kernelspec": {
   "display_name": "Python 3 (ipykernel)",
   "language": "python",
   "name": "python3"
  },
  "language_info": {
   "codemirror_mode": {
    "name": "ipython",
    "version": 3
   },
   "file_extension": ".py",
   "mimetype": "text/x-python",
   "name": "python",
   "nbconvert_exporter": "python",
   "pygments_lexer": "ipython3",
   "version": "3.13.5"
  }
 },
 "nbformat": 4,
 "nbformat_minor": 5
}
