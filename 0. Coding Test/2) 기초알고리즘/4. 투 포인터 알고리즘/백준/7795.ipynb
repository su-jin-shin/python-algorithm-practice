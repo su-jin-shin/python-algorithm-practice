{
 "cells": [
  {
   "cell_type": "code",
   "execution_count": null,
   "id": "2de1e86a-a5b2-45ad-8747-5c54c15c54fb",
   "metadata": {},
   "outputs": [],
   "source": [
    "'''\n",
    "먹을 것인가 먹힐 것인가 성공다국어\n",
    "시간 제한\t메모리 제한\t제출\t정답\t맞힌 사람\t정답 비율\n",
    "1 초\t256 MB\t22020\t11306\t8321\t51.074%\n",
    "문제\n",
    "심해에는 두 종류의 생명체 A와 B가 존재한다. A는 B를 먹는다. A는 자기보다 크기가 작은 먹이만 먹을 수 있다. 예를 들어, A의 크기가 {8, 1, 7, 3, 1}이고, B의 크기가 {3, 6, 1}인 경우에 A가 B를 먹을 수 있는 쌍의 개수는 7가지가 있다. 8-3, 8-6, 8-1, 7-3, 7-6, 7-1, 3-1.\n",
    "\n",
    "\n",
    "\n",
    "두 생명체 A와 B의 크기가 주어졌을 때, A의 크기가 B보다 큰 쌍이 몇 개나 있는지 구하는 프로그램을 작성하시오.\n",
    "\n",
    "입력\n",
    "첫째 줄에 테스트 케이스의 개수 T가 주어진다. 각 테스트 케이스의 첫째 줄에는 A의 수 N과 B의 수 M이 주어진다. 둘째 줄에는 A의 크기가 모두 주어지며, 셋째 줄에는 B의 크기가 모두 주어진다. 크기는 양의 정수이다. (1 ≤ N, M ≤ 20,000) \n",
    "\n",
    "출력\n",
    "각 테스트 케이스마다, A가 B보다 큰 쌍의 개수를 출력한다.\n",
    "\n",
    "\n",
    "========================\n",
    "예제 입력 1 \n",
    "2\n",
    "5 3\n",
    "8 1 7 3 1\n",
    "3 6 1\n",
    "3 4\n",
    "2 13 7\n",
    "103 11 290 215\n",
    "========================\n",
    "예제 출력 1 \n",
    "7\n",
    "1\n",
    "\n",
    "'''"
   ]
  },
  {
   "cell_type": "code",
   "execution_count": 3,
   "id": "d902ba38-cfb9-4b12-9c09-be43b918bad1",
   "metadata": {},
   "outputs": [
    {
     "name": "stdin",
     "output_type": "stream",
     "text": [
      " 1\n",
      " 4 5\n",
      " 3 7 8 9\n",
      " 1 2 6 7 10\n"
     ]
    },
    {
     "name": "stdout",
     "output_type": "stream",
     "text": [
      "13\n"
     ]
    }
   ],
   "source": [
    "#import sys\n",
    "#input = sys.stdin.readline\n",
    "\n",
    "T = int(input())\n",
    "\n",
    "for _ in range(T):\n",
    "    N, M = map(int, input().split())\n",
    "    A = sorted(list(map(int, input().split()))) #3 7 8 9\n",
    "    B = sorted(list(map(int, input().split()))) #1 2 6 7 10\n",
    "    \n",
    "    total = 0\n",
    "    start = 0\n",
    "    \n",
    "    for i in range(N): # [강의] 얘를 메인포인터로 보면 돼\n",
    "        if start == M: # ⭐⭐ 여기 분기문 작성 안해줘서 런타임 에러 (IndexError)가 났다. 아래의 ☄️☄️☄️부분만 작성했는데 거기는 while문만 탈출하는거여서 for문까지도 탈출하도록 여기에도 작성해줘야 한다.\n",
    "            break\n",
    "            \n",
    "        while True:\n",
    "            if A[i] > B[start]: # [강의] 얘를 서브포인터로 보면 돼\n",
    "                total += (N-i)\n",
    "                start += 1\n",
    "                \n",
    "                if start == M: # ☄️☄️☄️\n",
    "                    break\n",
    "            else:\n",
    "                break\n",
    "            \n",
    "    print(total) # ⭐ 여기를 tap하고 써야되는데\n",
    "# print(total) <- 처음에 이 지점에다 이라고 적음 ㅠ"
   ]
  },
  {
   "cell_type": "markdown",
   "id": "26cf4272-673e-4539-8948-f7b3706d66e4",
   "metadata": {},
   "source": [
    "### 강사님 풀이는 약간 다른 부분이 있는데(투 포인터 알고리즘에 더 가깝게 푸심) 이해가 잘 안 가서 적지 않음"
   ]
  }
 ],
 "metadata": {
  "kernelspec": {
   "display_name": "Python 3 (ipykernel)",
   "language": "python",
   "name": "python3"
  },
  "language_info": {
   "codemirror_mode": {
    "name": "ipython",
    "version": 3
   },
   "file_extension": ".py",
   "mimetype": "text/x-python",
   "name": "python",
   "nbconvert_exporter": "python",
   "pygments_lexer": "ipython3",
   "version": "3.13.5"
  }
 },
 "nbformat": 4,
 "nbformat_minor": 5
}
