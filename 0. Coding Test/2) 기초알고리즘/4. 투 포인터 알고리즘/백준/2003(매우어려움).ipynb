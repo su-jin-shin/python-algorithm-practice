{
 "cells": [
  {
   "cell_type": "code",
   "execution_count": 1,
   "id": "d4b7a314-9f86-49ad-ba96-324d18c61cad",
   "metadata": {},
   "outputs": [
    {
     "name": "stdin",
     "output_type": "stream",
     "text": [
      " 10 5\n",
      " 1 2 3 4 2 5 3 1 1 2\n"
     ]
    },
    {
     "name": "stdout",
     "output_type": "stream",
     "text": [
      "3\n"
     ]
    }
   ],
   "source": [
    "'''\n",
    "문제\n",
    "N개의 수로 된 수열 A[1], A[2], …, A[N] 이 있다. 이 수열의 i번째 수부터 j번째 수까지의 합 A[i] + A[i+1] + … + A[j-1] + A[j]가 M이 되는 경우의 수를 구하는 프로그램을 작성하시오.\n",
    "\n",
    "입력\n",
    "첫째 줄에 N(1 ≤ N ≤ 10,000), M(1 ≤ M ≤ 300,000,000)이 주어진다. 다음 줄에는 A[1], A[2], …, A[N]이 공백으로 분리되어 주어진다. 각각의 A[x]는 30,000을 넘지 않는 자연수이다.\n",
    "\n",
    "출력\n",
    "첫째 줄에 경우의 수를 출력한다.\n",
    "\n",
    "예제 입력 2 \n",
    "10 5\n",
    "1 2 3 4 2 5 3 1 1 2\n",
    "\n",
    "예제 출력 2 \n",
    "3\n",
    "'''\n",
    "## 이거는 내가 푼 것인데 제출하니까 시간 초과 났음 ㅠㅠㅠㅠ 이건 투 포인터 방법으로 푼 게 아님.. 원 포인터로 품..\n",
    "## 일단 푼 것만으로도 신기함...ㅋㅋ ㅠ\n",
    "\n",
    "#import sys\n",
    "#input = sys.stdin.readline\n",
    "\n",
    "N, M = map(int, input().split())\n",
    "A = list(map(int, input().split()))\n",
    "\n",
    "count = 0\n",
    "for i, a in enumerate(A):\n",
    "    num = A[i]\n",
    "    n = 0\n",
    "    1 2 3 4 2 5 3 1 1 2\n",
    "    w10 5hile num <= M:\n",
    "        if num == M:\n",
    "            count += 1\n",
    "            break\n",
    "    \n",
    "        n += 1\n",
    "        if i + n < N:\n",
    "            num += A[i + n]\n",
    "        else:\n",
    "            break # 그 다음 다음 포인터로 넘어가기\n",
    "            \n",
    "print(count)"
   ]
  },
  {
   "cell_type": "code",
   "execution_count": null,
   "id": "56d39a59-5ecf-40ad-96a6-5c3ffba82c67",
   "metadata": {},
   "outputs": [],
   "source": []
  },
  {
   "cell_type": "markdown",
   "id": "b4216b44-b801-4124-b6e7-bba2495a96e2",
   "metadata": {},
   "source": [
    "### 강사님 풀이 (어려움..... 외우기!!!)"
   ]
  },
  {
   "cell_type": "code",
   "execution_count": 4,
   "id": "51788683-f13a-4448-bb3b-3af152dd0dbf",
   "metadata": {},
   "outputs": [
    {
     "name": "stdin",
     "output_type": "stream",
     "text": [
      " 10 5\n",
      " 1 2 3 4 2 5 3 1 1 2\n"
     ]
    },
    {
     "name": "stdout",
     "output_type": "stream",
     "text": [
      "3\n"
     ]
    }
   ],
   "source": [
    "N, M = map(int, input().split())\n",
    "A = list(map(int, input().split()))\n",
    "\n",
    "start = 0\n",
    "end = 0\n",
    "total = A[0]\n",
    "\n",
    "count = 0\n",
    "\n",
    "while True:    \n",
    "    if total == M:\n",
    "        count += 1       \n",
    "    elif total < M:\n",
    "        end += 1\n",
    "        total += A[end]\n",
    "    else:\n",
    "        total -= A[start]\n",
    "        start += 1\n",
    "        \n",
    "\n",
    "print(count)\n",
    "    "
   ]
  },
  {
   "cell_type": "code",
   "execution_count": null,
   "id": "ed6bad46-7542-4528-bc51-88dbdd418b31",
   "metadata": {},
   "outputs": [],
   "source": []
  }
 ],
 "metadata": {
  "kernelspec": {
   "display_name": "Python 3 (ipykernel)",
   "language": "python",
   "name": "python3"
  },
  "language_info": {
   "codemirror_mode": {
    "name": "ipython",
    "version": 3
   },
   "file_extension": ".py",
   "mimetype": "text/x-python",
   "name": "python",
   "nbconvert_exporter": "python",
   "pygments_lexer": "ipython3",
   "version": "3.13.5"
  }
 },
 "nbformat": 4,
 "nbformat_minor": 5
}
