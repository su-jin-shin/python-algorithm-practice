{
 "cells": [
  {
   "cell_type": "code",
   "execution_count": null,
   "id": "c8f91f7f-00fb-4eff-909d-4f888c67fbee",
   "metadata": {},
   "outputs": [],
   "source": [
    "'''\n",
    "문제\n",
    "국가의 역할 중 하나는 여러 지방의 예산요청을 심사하여 국가의 예산을 분배하는 것이다. 국가예산의 총액은 미리 정해져 있어서 모든 예산요청을 배정해 주기는 어려울 수도 있다. 그래서 정해진 총액 이하에서 가능한 한 최대의 총 예산을 다음과 같은 방법으로 배정한다.\n",
    "\n",
    "모든 요청이 배정될 수 있는 경우에는 요청한 금액을 그대로 배정한다.\n",
    "모든 요청이 배정될 수 없는 경우에는 특정한 정수 상한액을 계산하여 그 이상인 예산요청에는 모두 상한액을 배정한다. 상한액 이하의 예산요청에 대해서는 요청한 금액을 그대로 배정한다. \n",
    "예를 들어, 전체 국가예산이 485이고 4개 지방의 예산요청이 각각 120, 110, 140, 150이라고 하자. 이 경우, 상한액을 127로 잡으면, 위의 요청들에 대해서 각각 120, 110, 127, 127을 배정하고 그 합이 484로 가능한 최대가 된다. \n",
    "\n",
    "여러 지방의 예산요청과 국가예산의 총액이 주어졌을 때, 위의 조건을 모두 만족하도록 예산을 배정하는 프로그램을 작성하시오.\n",
    "\n",
    "입력\n",
    "첫째 줄에는 지방의 수를 의미하는 정수 N이 주어진다. N은 3 이상 10,000 이하이다. 다음 줄에는 각 지방의 예산요청을 표현하는 N개의 정수가 빈칸을 사이에 두고 주어진다. 이 값들은 모두 1 이상 100,000 이하이다. 그 다음 줄에는 총 예산을 나타내는 정수 M이 주어진다. M은 N 이상 1,000,000,000 이하이다. \n",
    "\n",
    "출력\n",
    "첫째 줄에는 배정된 예산들 중 최댓값인 정수를 출력한다. \n",
    "'''"
   ]
  },
  {
   "cell_type": "code",
   "execution_count": 1,
   "id": "a4916038-d2ea-4790-820a-88d9530803ec",
   "metadata": {},
   "outputs": [
    {
     "name": "stdin",
     "output_type": "stream",
     "text": [
      " 4\n",
      " 70 80 30 40\n",
      " 300\n"
     ]
    },
    {
     "name": "stdout",
     "output_type": "stream",
     "text": [
      "80\n"
     ]
    }
   ],
   "source": [
    "import sys\n",
    "\n",
    "N = int(input()) # 밑에서 N은 더이상 사용되지 않는다... 사용되지 않는 값도 입력 값으로 받는 경우가 있는 듯(입력 값으로 주어졌다고 해서 밑에서 꼭 사용하자는 생각은 안해도 될듯)\n",
    "jibang = list(map(int, input().split()))\n",
    "M = int(input())\n",
    "\n",
    "\n",
    "left = 0\n",
    "right = max(jibang)\n",
    "answer = 0\n",
    "\n",
    "while left <= right:\n",
    "    middle = (left + right) // 2\n",
    "\n",
    "    sum = 0\n",
    "    for j in jibang:\n",
    "        sum += min(j, middle)\n",
    "    if sum == M:  # 여기 분기를 없애고 sum <= M 으로 합쳐도 돼... 근데 그냥 난 이해가 잘 안 가서(헷갈려서) 이렇게 함...\n",
    "        print(middle)\n",
    "        sys.exit(0)\n",
    "    elif sum < M:\n",
    "        answer = middle\n",
    "        left = middle + 1\n",
    "    else:\n",
    "        right = middle - 1\n",
    "\n",
    "\n",
    "print(answer)"
   ]
  },
  {
   "cell_type": "code",
   "execution_count": null,
   "id": "409ddcef-62c6-42ee-a2fd-5c5ddbb28bcf",
   "metadata": {},
   "outputs": [],
   "source": [
    "\n",
    "\n",
    "\n",
    "\n",
    "\n",
    "\n",
    "\n",
    "\n",
    "\n",
    "\n",
    "\n",
    "\n",
    "\n",
    "\n",
    "\n",
    "\n",
    "\n",
    "\n",
    "\n",
    "\n"
   ]
  },
  {
   "cell_type": "code",
   "execution_count": 5,
   "id": "fc6ffb2b-9c3a-456b-a9c3-0d5d58235e06",
   "metadata": {},
   "outputs": [
    {
     "name": "stdin",
     "output_type": "stream",
     "text": [
      " 5\n",
      " 1\n",
      " 2\n"
     ]
    },
    {
     "name": "stdout",
     "output_type": "stream",
     "text": [
      "여기 들어옴!!\n",
      "1\n"
     ]
    },
    {
     "ename": "SystemExit",
     "evalue": "0",
     "output_type": "error",
     "traceback": [
      "An exception has occurred, use %tb to see the full traceback.\n",
      "\u001b[1;31mSystemExit\u001b[0m\u001b[1;31m:\u001b[0m 0\n"
     ]
    }
   ],
   "source": [
    "# 이진탐색 사용하는 경우가 최적의 값 구하는 문제...(문제에 '최적'이란 말이 명시가 안되어도 맥락상 최적의 값을 요구하는 거라면 마찬가지로 해당)\n",
    "# ⭐⭐⭐⭐⭐ 이진탐색 알고리즘은 예시를 먼저 쭉 노가다로 풀어보고.. 그걸 바탕으로 코드 작성하는게 좋을듯하다...\n",
    "\n",
    "import sys\n",
    "\n",
    "# 가장 먼저, 입력값 받기 \n",
    "N = int(input())\n",
    "district = list(map(int, input().split()))\n",
    "M = int(input())\n",
    "\n",
    "# 이진탐색은 왼쪽값과 오른쪽값이 있음.(범위. 즉 이진탐색은 범위가 있음!!)\n",
    "# ⭐⭐⭐⭐⭐ 이 범위를 정하는게 첫번째 !! (1. 범위를 지정하고, 2. 내가 구해야되는 값(최적값)이 뭔지를 인지해야함.(이 문제에선 최적의 예산 상한값!!) -> 이게 결국 mid, answer가 됨..)\n",
    "left = 0\n",
    "right = max(district)\n",
    "\n",
    "\n",
    "# ===========================================\n",
    "#5\n",
    "#70 80 30 40 100\n",
    "#450 이런 예시용\n",
    "# 이 부분은 해줘도 되고 안해줘도 되는데.. 성능 차원에서 해주는것도 나쁘지 않음\n",
    "if sum(district) <= M:\n",
    "    print('여기 들어옴!!')\n",
    "    print(right)\n",
    "    sys.exit(0)\n",
    "# ===========================================\n",
    "\n",
    "# ⭐⭐⭐⭐⭐ 두번째는 위에서 정한 범위로 while문 돌리는거(왼쪽값이 오른쪽값을 넘어서기 전까지 돌림). 그 while문 안에서 이진탐색 알고리즘을 사용(= 범위의 중간값 정하는거). 그래서 최적의 중간값을 구한다.(이게 문제의 답이 됨) \n",
    "answer = 0\n",
    "while left <= right:\n",
    "    mid = (left + right) // 2 # ⭐결국 mid로 최적값(답)을 구하는것임\n",
    "    print('mid: ', mid)\n",
    "\n",
    "    total = 0\n",
    "    for d in district:\n",
    "        total += min(d, mid)\n",
    "\n",
    "    if total == M:\n",
    "        print('여기0')\n",
    "        print(mid)\n",
    "        sys.exit(0)\n",
    "    elif total < M:\n",
    "        print('여기1')\n",
    "        answer = mid\n",
    "        left = mid + 1\n",
    "    elif total > M:\n",
    "        print('여기2')\n",
    "        right = mid - 1\n",
    "\n",
    "\n",
    "print(answer)"
   ]
  },
  {
   "cell_type": "code",
   "execution_count": null,
   "id": "945e7cdf-c36f-43a7-9bb5-7c7e2e55f29f",
   "metadata": {},
   "outputs": [],
   "source": []
  }
 ],
 "metadata": {
  "kernelspec": {
   "display_name": "Python 3 (ipykernel)",
   "language": "python",
   "name": "python3"
  },
  "language_info": {
   "codemirror_mode": {
    "name": "ipython",
    "version": 3
   },
   "file_extension": ".py",
   "mimetype": "text/x-python",
   "name": "python",
   "nbconvert_exporter": "python",
   "pygments_lexer": "ipython3",
   "version": "3.13.5"
  }
 },
 "nbformat": 4,
 "nbformat_minor": 5
}
