{
 "cells": [
  {
   "cell_type": "code",
   "execution_count": null,
   "id": "88dc60e5-85a1-4f14-99c4-22ae88ad45b8",
   "metadata": {},
   "outputs": [],
   "source": [
    "'''\n",
    "문제\n",
    "강토는 자신의 기타 강의 동영상을 블루레이로 만들어 판매하려고 한다. 블루레이에는 총 N개의 강의가 들어가는데, 블루레이를 녹화할 때, 강의의 순서가 바뀌면 안 된다. 순서가 뒤바뀌는 경우에는 강의의 흐름이 끊겨, 학생들이 대혼란에 빠질 수 있기 때문이다. 즉, i번 강의와 j번 강의를 같은 블루레이에 녹화하려면 i와 j 사이의 모든 강의도 같은 블루레이에 녹화해야 한다.\n",
    "\n",
    "강토는 이 블루레이가 얼마나 팔릴지 아직 알 수 없기 때문에, 블루레이의 개수를 가급적 줄이려고 한다. 오랜 고민 끝에 강토는 M개의 블루레이에 모든 기타 강의 동영상을 녹화하기로 했다. 이때, 블루레이의 크기(녹화 가능한 길이)를 최소로 하려고 한다. 단, M개의 블루레이는 모두 같은 크기이어야 한다.\n",
    "\n",
    "강토의 각 강의의 길이가 분 단위(자연수)로 주어진다. 이때, 가능한 블루레이의 크기 중 최소를 구하는 프로그램을 작성하시오.\n",
    "\n",
    "입력\n",
    "첫째 줄에 강의의 수 N (1 ≤ N ≤ 100,000)과 M (1 ≤ M ≤ N)이 주어진다. 다음 줄에는 강토의 기타 강의의 길이가 강의 순서대로 분 단위로(자연수)로 주어진다. 각 강의의 길이는 10,000분을 넘지 않는다.\n",
    "\n",
    "출력\n",
    "첫째 줄에 가능한 블루레이 크기중 최소를 출력한다.\n",
    "\n",
    "예제 입력 1 \n",
    "9 3\n",
    "1 2 3 4 5 6 7 8 9\n",
    "\n",
    "예제 출력 1 \n",
    "17\n",
    "\n",
    "\n",
    "힌트\n",
    "강의는 총 9개이고, 블루레이는 총 3개 가지고 있다.\n",
    "\n",
    "1번 블루레이에 1, 2, 3, 4, 5, 2번 블루레이에 6, 7, 3번 블루레이에 8, 9 를 넣으면 각 블루레이의 크기는 15, 13, 17이 된다. \n",
    "블루레이의 크기는 모두 같아야 하기 때문에, 블루레이의 크기는 17이 된다. 17보다 더 작은 크기를 가지는 블루레이를 만들 수 없다.\n",
    "'''"
   ]
  },
  {
   "cell_type": "code",
   "execution_count": 1,
   "id": "3d169a1c-26ae-45c2-bdbb-8448f907eade",
   "metadata": {},
   "outputs": [
    {
     "name": "stdin",
     "output_type": "stream",
     "text": [
      " 9\n",
      " 3\n",
      " 1 2 3 4 5 6 7 8 9\n"
     ]
    },
    {
     "name": "stdout",
     "output_type": "stream",
     "text": [
      "17\n"
     ]
    }
   ],
   "source": [
    "input_value = input().split()\n",
    "N = int(input_value[0]) # 강의 수\n",
    "M = int(input_value[1]) # 블루레이 수\n",
    "nums = list(map(int, input().split())) # 강의 길이 리스트\n",
    "\n",
    "'''\n",
    "[참고] N, M = map(int, input().split()) 로 표현 가능\n",
    "'''\n",
    "\n",
    "# 구해야 하는 값: 블루레이의 최적의 용량(최적의 길이)\n",
    "\n",
    "left = max(nums)\n",
    "right = sum(nums)\n",
    "answer = 0\n",
    "\n",
    "while left <= right:\n",
    "    mid = (left + right) // 2\n",
    "\n",
    "    subtotal = 0 # 블루레이별 용량\n",
    "    bluray = 1 # 각 블루레이 번호(1번부터 시작)\n",
    "\n",
    "    for n in nums:\n",
    "        subtotal += n\n",
    "\n",
    "        if subtotal > mid:\n",
    "            bluray += 1\n",
    "            subtotal = n\n",
    "\n",
    "    if bluray <= M:\n",
    "        answer = mid\n",
    "        right = mid - 1\n",
    "    else:\n",
    "        left = mid + 1\n",
    "\n",
    "print(answer)\n",
    " \n",
    "        \n",
    "    \n",
    "\n",
    "    \n",
    "        "
   ]
  },
  {
   "cell_type": "code",
   "execution_count": null,
   "id": "f181872d-ad70-414d-8daf-e79de18e6949",
   "metadata": {},
   "outputs": [],
   "source": []
  }
 ],
 "metadata": {
  "kernelspec": {
   "display_name": "Python 3 (ipykernel)",
   "language": "python",
   "name": "python3"
  },
  "language_info": {
   "codemirror_mode": {
    "name": "ipython",
    "version": 3
   },
   "file_extension": ".py",
   "mimetype": "text/x-python",
   "name": "python",
   "nbconvert_exporter": "python",
   "pygments_lexer": "ipython3",
   "version": "3.13.5"
  }
 },
 "nbformat": 4,
 "nbformat_minor": 5
}
