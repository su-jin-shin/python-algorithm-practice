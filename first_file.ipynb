{
 "cells": [
  {
   "cell_type": "code",
   "execution_count": 9,
   "id": "d2d0de6b-8770-400c-ba7a-379236af2ec6",
   "metadata": {},
   "outputs": [
    {
     "name": "stdout",
     "output_type": "stream",
     "text": [
      "1\n"
     ]
    }
   ],
   "source": [
    "data = 1\n",
    "print(data) # shift + enter로 실행함(run)"
   ]
  },
  {
   "cell_type": "markdown",
   "id": "b410e034-8946-4922-8b9f-1d1419dd593e",
   "metadata": {},
   "source": [
    "셀 선택 후 a버튼 누르면 그 셀 위에 새로운 셀 생성, b버튼 누르면 그 셀 아래에 새로운 셀 생성\n",
    "### (실행하려면) 상단 바에서 code 클릭 > markdown 선택한 후 shift + enter\n",
    "#### 수정하려면 더블클릭하기"
   ]
  },
  {
   "cell_type": "code",
   "execution_count": 11,
   "id": "4162e271-489a-414b-9bed-5ad52def24e0",
   "metadata": {},
   "outputs": [
    {
     "name": "stdout",
     "output_type": "stream",
     "text": [
      "1\n"
     ]
    }
   ],
   "source": [
    "new_data = 2\n",
    "print(data)"
   ]
  },
  {
   "cell_type": "code",
   "execution_count": null,
   "id": "f3f8c06d-3b3b-4080-8aed-18a09775bcc2",
   "metadata": {},
   "outputs": [],
   "source": []
  },
  {
   "cell_type": "code",
   "execution_count": null,
   "id": "6a947bb5-4ac1-4691-83a0-634b686dd0eb",
   "metadata": {},
   "outputs": [],
   "source": []
  }
 ],
 "metadata": {
  "kernelspec": {
   "display_name": "Python 3 (ipykernel)",
   "language": "python",
   "name": "python3"
  },
  "language_info": {
   "codemirror_mode": {
    "name": "ipython",
    "version": 3
   },
   "file_extension": ".py",
   "mimetype": "text/x-python",
   "name": "python",
   "nbconvert_exporter": "python",
   "pygments_lexer": "ipython3",
   "version": "3.13.5"
  }
 },
 "nbformat": 4,
 "nbformat_minor": 5
}
